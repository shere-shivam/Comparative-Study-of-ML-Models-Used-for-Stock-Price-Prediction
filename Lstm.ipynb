{
 "cells": [
  {
   "cell_type": "code",
   "execution_count": 1,
   "metadata": {
    "id": "0NlRHsVFXNQW"
   },
   "outputs": [],
   "source": [
    "# Importing Libraries\n",
    "import numpy as np\n",
    "import pandas as pd\n",
    "import matplotlib.pyplot as plt\n",
    "import seaborn as sns"
   ]
  },
  {
   "cell_type": "code",
   "execution_count": 3,
   "metadata": {
    "colab": {
     "base_uri": "https://localhost:8080/"
    },
    "id": "6K192y4kXQj4",
    "outputId": "9384d88b-2823-42aa-d403-23da8369d25f"
   },
   "outputs": [
    {
     "name": "stdout",
     "output_type": "stream",
     "text": [
      "YF.download() has changed argument auto_adjust default to True\n"
     ]
    },
    {
     "name": "stderr",
     "output_type": "stream",
     "text": [
      "[*********************100%***********************]  1 of 1 completed\n"
     ]
    }
   ],
   "source": [
    "import yfinance as yf\n",
    "\n",
    "# Define the stock ticker symbol \n",
    "ticker_symbol = \"TCS.NS\"\n",
    "\n",
    "# Define the start and end dates\n",
    "start_date = \"2000-01-01\"\n",
    "end_date = \"2025-02-27\"\n",
    "\n",
    "# Fetch historical stock data using yfinance\n",
    "stock_data = yf.download(ticker_symbol, start=start_date, end=end_date)\n"
   ]
  },
  {
   "cell_type": "code",
   "execution_count": 5,
   "metadata": {
    "id": "q8CAYw01YTPn"
   },
   "outputs": [],
   "source": [
    "# Save the data to a CSV file\n",
    "csv_file_name = f\"{ticker_symbol}_stock_data.csv\"\n",
    "stock_data.to_csv(csv_file_name)\n"
   ]
  },
  {
   "cell_type": "code",
   "execution_count": 7,
   "metadata": {
    "id": "4dr33zYfYTMN"
   },
   "outputs": [],
   "source": [
    "# Data Loading and Preprocessing\n",
    "df = pd.read_csv('TCS.NS_stock_data.csv')"
   ]
  },
  {
   "cell_type": "code",
   "execution_count": 9,
   "metadata": {
    "colab": {
     "base_uri": "https://localhost:8080/",
     "height": 423
    },
    "id": "l2-sZPawYTJZ",
    "outputId": "247a78ad-532e-4c28-e5a2-ea7094c9a957"
   },
   "outputs": [
    {
     "data": {
      "text/html": [
       "<div>\n",
       "<style scoped>\n",
       "    .dataframe tbody tr th:only-of-type {\n",
       "        vertical-align: middle;\n",
       "    }\n",
       "\n",
       "    .dataframe tbody tr th {\n",
       "        vertical-align: top;\n",
       "    }\n",
       "\n",
       "    .dataframe thead th {\n",
       "        text-align: right;\n",
       "    }\n",
       "</style>\n",
       "<table border=\"1\" class=\"dataframe\">\n",
       "  <thead>\n",
       "    <tr style=\"text-align: right;\">\n",
       "      <th></th>\n",
       "      <th>Price</th>\n",
       "      <th>Close</th>\n",
       "      <th>High</th>\n",
       "      <th>Low</th>\n",
       "      <th>Open</th>\n",
       "      <th>Volume</th>\n",
       "    </tr>\n",
       "  </thead>\n",
       "  <tbody>\n",
       "    <tr>\n",
       "      <th>0</th>\n",
       "      <td>Ticker</td>\n",
       "      <td>TCS.NS</td>\n",
       "      <td>TCS.NS</td>\n",
       "      <td>TCS.NS</td>\n",
       "      <td>TCS.NS</td>\n",
       "      <td>TCS.NS</td>\n",
       "    </tr>\n",
       "    <tr>\n",
       "      <th>1</th>\n",
       "      <td>Date</td>\n",
       "      <td>NaN</td>\n",
       "      <td>NaN</td>\n",
       "      <td>NaN</td>\n",
       "      <td>NaN</td>\n",
       "      <td>NaN</td>\n",
       "    </tr>\n",
       "    <tr>\n",
       "      <th>2</th>\n",
       "      <td>2002-08-12</td>\n",
       "      <td>28.11940574645996</td>\n",
       "      <td>28.331894414178297</td>\n",
       "      <td>27.428814198950363</td>\n",
       "      <td>27.428814198950363</td>\n",
       "      <td>212976</td>\n",
       "    </tr>\n",
       "    <tr>\n",
       "      <th>3</th>\n",
       "      <td>2002-08-13</td>\n",
       "      <td>27.738685607910156</td>\n",
       "      <td>28.606351223804324</td>\n",
       "      <td>27.535051261351068</td>\n",
       "      <td>28.154811257587266</td>\n",
       "      <td>153576</td>\n",
       "    </tr>\n",
       "    <tr>\n",
       "      <th>4</th>\n",
       "      <td>2002-08-14</td>\n",
       "      <td>25.826297760009766</td>\n",
       "      <td>27.800675890570268</td>\n",
       "      <td>25.30392621070466</td>\n",
       "      <td>27.800675890570268</td>\n",
       "      <td>822776</td>\n",
       "    </tr>\n",
       "    <tr>\n",
       "      <th>...</th>\n",
       "      <td>...</td>\n",
       "      <td>...</td>\n",
       "      <td>...</td>\n",
       "      <td>...</td>\n",
       "      <td>...</td>\n",
       "      <td>...</td>\n",
       "    </tr>\n",
       "    <tr>\n",
       "      <th>5595</th>\n",
       "      <td>2025-02-19</td>\n",
       "      <td>3784.10009765625</td>\n",
       "      <td>3874.949951171875</td>\n",
       "      <td>3768.14990234375</td>\n",
       "      <td>3872.199951171875</td>\n",
       "      <td>4366672</td>\n",
       "    </tr>\n",
       "    <tr>\n",
       "      <th>5596</th>\n",
       "      <td>2025-02-20</td>\n",
       "      <td>3779.39990234375</td>\n",
       "      <td>3788.0</td>\n",
       "      <td>3751.300048828125</td>\n",
       "      <td>3761.5</td>\n",
       "      <td>2888572</td>\n",
       "    </tr>\n",
       "    <tr>\n",
       "      <th>5597</th>\n",
       "      <td>2025-02-21</td>\n",
       "      <td>3786.0</td>\n",
       "      <td>3817.0</td>\n",
       "      <td>3775.0</td>\n",
       "      <td>3776.10009765625</td>\n",
       "      <td>1833931</td>\n",
       "    </tr>\n",
       "    <tr>\n",
       "      <th>5598</th>\n",
       "      <td>2025-02-24</td>\n",
       "      <td>3675.60009765625</td>\n",
       "      <td>3763.199951171875</td>\n",
       "      <td>3670.0</td>\n",
       "      <td>3743.14990234375</td>\n",
       "      <td>2508516</td>\n",
       "    </tr>\n",
       "    <tr>\n",
       "      <th>5599</th>\n",
       "      <td>2025-02-25</td>\n",
       "      <td>3629.550048828125</td>\n",
       "      <td>3658.0</td>\n",
       "      <td>3621.25</td>\n",
       "      <td>3625.0</td>\n",
       "      <td>4101954</td>\n",
       "    </tr>\n",
       "  </tbody>\n",
       "</table>\n",
       "<p>5600 rows × 6 columns</p>\n",
       "</div>"
      ],
      "text/plain": [
       "           Price               Close                High                 Low  \\\n",
       "0         Ticker              TCS.NS              TCS.NS              TCS.NS   \n",
       "1           Date                 NaN                 NaN                 NaN   \n",
       "2     2002-08-12   28.11940574645996  28.331894414178297  27.428814198950363   \n",
       "3     2002-08-13  27.738685607910156  28.606351223804324  27.535051261351068   \n",
       "4     2002-08-14  25.826297760009766  27.800675890570268   25.30392621070466   \n",
       "...          ...                 ...                 ...                 ...   \n",
       "5595  2025-02-19    3784.10009765625   3874.949951171875    3768.14990234375   \n",
       "5596  2025-02-20    3779.39990234375              3788.0   3751.300048828125   \n",
       "5597  2025-02-21              3786.0              3817.0              3775.0   \n",
       "5598  2025-02-24    3675.60009765625   3763.199951171875              3670.0   \n",
       "5599  2025-02-25   3629.550048828125              3658.0             3621.25   \n",
       "\n",
       "                    Open   Volume  \n",
       "0                 TCS.NS   TCS.NS  \n",
       "1                    NaN      NaN  \n",
       "2     27.428814198950363   212976  \n",
       "3     28.154811257587266   153576  \n",
       "4     27.800675890570268   822776  \n",
       "...                  ...      ...  \n",
       "5595   3872.199951171875  4366672  \n",
       "5596              3761.5  2888572  \n",
       "5597    3776.10009765625  1833931  \n",
       "5598    3743.14990234375  2508516  \n",
       "5599              3625.0  4101954  \n",
       "\n",
       "[5600 rows x 6 columns]"
      ]
     },
     "execution_count": 9,
     "metadata": {},
     "output_type": "execute_result"
    }
   ],
   "source": [
    "df"
   ]
  },
  {
   "cell_type": "code",
   "execution_count": 11,
   "metadata": {
    "colab": {
     "base_uri": "https://localhost:8080/",
     "height": 206
    },
    "id": "ejYOP8srYTGS",
    "outputId": "0c79cf7f-5451-484a-dbe9-bed1aeee6456"
   },
   "outputs": [
    {
     "data": {
      "text/html": [
       "<div>\n",
       "<style scoped>\n",
       "    .dataframe tbody tr th:only-of-type {\n",
       "        vertical-align: middle;\n",
       "    }\n",
       "\n",
       "    .dataframe tbody tr th {\n",
       "        vertical-align: top;\n",
       "    }\n",
       "\n",
       "    .dataframe thead th {\n",
       "        text-align: right;\n",
       "    }\n",
       "</style>\n",
       "<table border=\"1\" class=\"dataframe\">\n",
       "  <thead>\n",
       "    <tr style=\"text-align: right;\">\n",
       "      <th></th>\n",
       "      <th>Price</th>\n",
       "      <th>Close</th>\n",
       "      <th>High</th>\n",
       "      <th>Low</th>\n",
       "      <th>Open</th>\n",
       "      <th>Volume</th>\n",
       "    </tr>\n",
       "  </thead>\n",
       "  <tbody>\n",
       "    <tr>\n",
       "      <th>0</th>\n",
       "      <td>Ticker</td>\n",
       "      <td>TCS.NS</td>\n",
       "      <td>TCS.NS</td>\n",
       "      <td>TCS.NS</td>\n",
       "      <td>TCS.NS</td>\n",
       "      <td>TCS.NS</td>\n",
       "    </tr>\n",
       "    <tr>\n",
       "      <th>1</th>\n",
       "      <td>Date</td>\n",
       "      <td>NaN</td>\n",
       "      <td>NaN</td>\n",
       "      <td>NaN</td>\n",
       "      <td>NaN</td>\n",
       "      <td>NaN</td>\n",
       "    </tr>\n",
       "    <tr>\n",
       "      <th>2</th>\n",
       "      <td>2002-08-12</td>\n",
       "      <td>28.11940574645996</td>\n",
       "      <td>28.331894414178297</td>\n",
       "      <td>27.428814198950363</td>\n",
       "      <td>27.428814198950363</td>\n",
       "      <td>212976</td>\n",
       "    </tr>\n",
       "    <tr>\n",
       "      <th>3</th>\n",
       "      <td>2002-08-13</td>\n",
       "      <td>27.738685607910156</td>\n",
       "      <td>28.606351223804324</td>\n",
       "      <td>27.535051261351068</td>\n",
       "      <td>28.154811257587266</td>\n",
       "      <td>153576</td>\n",
       "    </tr>\n",
       "    <tr>\n",
       "      <th>4</th>\n",
       "      <td>2002-08-14</td>\n",
       "      <td>25.826297760009766</td>\n",
       "      <td>27.800675890570268</td>\n",
       "      <td>25.30392621070466</td>\n",
       "      <td>27.800675890570268</td>\n",
       "      <td>822776</td>\n",
       "    </tr>\n",
       "  </tbody>\n",
       "</table>\n",
       "</div>"
      ],
      "text/plain": [
       "        Price               Close                High                 Low  \\\n",
       "0      Ticker              TCS.NS              TCS.NS              TCS.NS   \n",
       "1        Date                 NaN                 NaN                 NaN   \n",
       "2  2002-08-12   28.11940574645996  28.331894414178297  27.428814198950363   \n",
       "3  2002-08-13  27.738685607910156  28.606351223804324  27.535051261351068   \n",
       "4  2002-08-14  25.826297760009766  27.800675890570268   25.30392621070466   \n",
       "\n",
       "                 Open  Volume  \n",
       "0              TCS.NS  TCS.NS  \n",
       "1                 NaN     NaN  \n",
       "2  27.428814198950363  212976  \n",
       "3  28.154811257587266  153576  \n",
       "4  27.800675890570268  822776  "
      ]
     },
     "execution_count": 11,
     "metadata": {},
     "output_type": "execute_result"
    }
   ],
   "source": [
    "df.head()"
   ]
  },
  {
   "cell_type": "code",
   "execution_count": 13,
   "metadata": {
    "colab": {
     "base_uri": "https://localhost:8080/",
     "height": 206
    },
    "id": "a9y2xUgAYTDK",
    "outputId": "79a45c08-b8d7-4c30-eb0a-b6e8dda8d4bf"
   },
   "outputs": [
    {
     "data": {
      "text/html": [
       "<div>\n",
       "<style scoped>\n",
       "    .dataframe tbody tr th:only-of-type {\n",
       "        vertical-align: middle;\n",
       "    }\n",
       "\n",
       "    .dataframe tbody tr th {\n",
       "        vertical-align: top;\n",
       "    }\n",
       "\n",
       "    .dataframe thead th {\n",
       "        text-align: right;\n",
       "    }\n",
       "</style>\n",
       "<table border=\"1\" class=\"dataframe\">\n",
       "  <thead>\n",
       "    <tr style=\"text-align: right;\">\n",
       "      <th></th>\n",
       "      <th>Price</th>\n",
       "      <th>Close</th>\n",
       "      <th>High</th>\n",
       "      <th>Low</th>\n",
       "      <th>Open</th>\n",
       "      <th>Volume</th>\n",
       "    </tr>\n",
       "  </thead>\n",
       "  <tbody>\n",
       "    <tr>\n",
       "      <th>5595</th>\n",
       "      <td>2025-02-19</td>\n",
       "      <td>3784.10009765625</td>\n",
       "      <td>3874.949951171875</td>\n",
       "      <td>3768.14990234375</td>\n",
       "      <td>3872.199951171875</td>\n",
       "      <td>4366672</td>\n",
       "    </tr>\n",
       "    <tr>\n",
       "      <th>5596</th>\n",
       "      <td>2025-02-20</td>\n",
       "      <td>3779.39990234375</td>\n",
       "      <td>3788.0</td>\n",
       "      <td>3751.300048828125</td>\n",
       "      <td>3761.5</td>\n",
       "      <td>2888572</td>\n",
       "    </tr>\n",
       "    <tr>\n",
       "      <th>5597</th>\n",
       "      <td>2025-02-21</td>\n",
       "      <td>3786.0</td>\n",
       "      <td>3817.0</td>\n",
       "      <td>3775.0</td>\n",
       "      <td>3776.10009765625</td>\n",
       "      <td>1833931</td>\n",
       "    </tr>\n",
       "    <tr>\n",
       "      <th>5598</th>\n",
       "      <td>2025-02-24</td>\n",
       "      <td>3675.60009765625</td>\n",
       "      <td>3763.199951171875</td>\n",
       "      <td>3670.0</td>\n",
       "      <td>3743.14990234375</td>\n",
       "      <td>2508516</td>\n",
       "    </tr>\n",
       "    <tr>\n",
       "      <th>5599</th>\n",
       "      <td>2025-02-25</td>\n",
       "      <td>3629.550048828125</td>\n",
       "      <td>3658.0</td>\n",
       "      <td>3621.25</td>\n",
       "      <td>3625.0</td>\n",
       "      <td>4101954</td>\n",
       "    </tr>\n",
       "  </tbody>\n",
       "</table>\n",
       "</div>"
      ],
      "text/plain": [
       "           Price              Close               High                Low  \\\n",
       "5595  2025-02-19   3784.10009765625  3874.949951171875   3768.14990234375   \n",
       "5596  2025-02-20   3779.39990234375             3788.0  3751.300048828125   \n",
       "5597  2025-02-21             3786.0             3817.0             3775.0   \n",
       "5598  2025-02-24   3675.60009765625  3763.199951171875             3670.0   \n",
       "5599  2025-02-25  3629.550048828125             3658.0            3621.25   \n",
       "\n",
       "                   Open   Volume  \n",
       "5595  3872.199951171875  4366672  \n",
       "5596             3761.5  2888572  \n",
       "5597   3776.10009765625  1833931  \n",
       "5598   3743.14990234375  2508516  \n",
       "5599             3625.0  4101954  "
      ]
     },
     "execution_count": 13,
     "metadata": {},
     "output_type": "execute_result"
    }
   ],
   "source": [
    "df.tail()"
   ]
  },
  {
   "cell_type": "code",
   "execution_count": 15,
   "metadata": {
    "colab": {
     "base_uri": "https://localhost:8080/"
    },
    "id": "1x98TPabYTAT",
    "outputId": "67abb270-d386-49b8-c392-6b1907fa6384"
   },
   "outputs": [
    {
     "name": "stdout",
     "output_type": "stream",
     "text": [
      "<class 'pandas.core.frame.DataFrame'>\n",
      "RangeIndex: 5600 entries, 0 to 5599\n",
      "Data columns (total 6 columns):\n",
      " #   Column  Non-Null Count  Dtype \n",
      "---  ------  --------------  ----- \n",
      " 0   Price   5600 non-null   object\n",
      " 1   Close   5599 non-null   object\n",
      " 2   High    5599 non-null   object\n",
      " 3   Low     5599 non-null   object\n",
      " 4   Open    5599 non-null   object\n",
      " 5   Volume  5599 non-null   object\n",
      "dtypes: object(6)\n",
      "memory usage: 262.6+ KB\n"
     ]
    }
   ],
   "source": [
    "#information about dataset\n",
    "df.info()"
   ]
  },
  {
   "cell_type": "code",
   "execution_count": 17,
   "metadata": {
    "id": "2WMm2maeYS9N"
   },
   "outputs": [],
   "source": [
    "df=df.reset_index()"
   ]
  },
  {
   "cell_type": "code",
   "execution_count": 19,
   "metadata": {
    "colab": {
     "base_uri": "https://localhost:8080/",
     "height": 303
    },
    "id": "_uxC7Xf6aOWl",
    "outputId": "b4ea6410-1570-4714-8d8b-d9a7674239e3"
   },
   "outputs": [
    {
     "data": {
      "text/plain": [
       "index     0\n",
       "Price     0\n",
       "Close     1\n",
       "High      1\n",
       "Low       1\n",
       "Open      1\n",
       "Volume    1\n",
       "dtype: int64"
      ]
     },
     "execution_count": 19,
     "metadata": {},
     "output_type": "execute_result"
    }
   ],
   "source": [
    "df.isna().sum()"
   ]
  },
  {
   "cell_type": "code",
   "execution_count": 21,
   "metadata": {
    "colab": {
     "base_uri": "https://localhost:8080/",
     "height": 423
    },
    "id": "aWsgr21UYS6J",
    "outputId": "81104482-7c1c-474b-cd3c-0f9954619bb6"
   },
   "outputs": [
    {
     "data": {
      "text/html": [
       "<div>\n",
       "<style scoped>\n",
       "    .dataframe tbody tr th:only-of-type {\n",
       "        vertical-align: middle;\n",
       "    }\n",
       "\n",
       "    .dataframe tbody tr th {\n",
       "        vertical-align: top;\n",
       "    }\n",
       "\n",
       "    .dataframe thead th {\n",
       "        text-align: right;\n",
       "    }\n",
       "</style>\n",
       "<table border=\"1\" class=\"dataframe\">\n",
       "  <thead>\n",
       "    <tr style=\"text-align: right;\">\n",
       "      <th></th>\n",
       "      <th>index</th>\n",
       "      <th>Price</th>\n",
       "      <th>Close</th>\n",
       "      <th>High</th>\n",
       "      <th>Low</th>\n",
       "      <th>Open</th>\n",
       "      <th>Volume</th>\n",
       "    </tr>\n",
       "  </thead>\n",
       "  <tbody>\n",
       "    <tr>\n",
       "      <th>0</th>\n",
       "      <td>0</td>\n",
       "      <td>Ticker</td>\n",
       "      <td>TCS.NS</td>\n",
       "      <td>TCS.NS</td>\n",
       "      <td>TCS.NS</td>\n",
       "      <td>TCS.NS</td>\n",
       "      <td>TCS.NS</td>\n",
       "    </tr>\n",
       "    <tr>\n",
       "      <th>1</th>\n",
       "      <td>1</td>\n",
       "      <td>Date</td>\n",
       "      <td>NaN</td>\n",
       "      <td>NaN</td>\n",
       "      <td>NaN</td>\n",
       "      <td>NaN</td>\n",
       "      <td>NaN</td>\n",
       "    </tr>\n",
       "    <tr>\n",
       "      <th>2</th>\n",
       "      <td>2</td>\n",
       "      <td>2002-08-12</td>\n",
       "      <td>28.11940574645996</td>\n",
       "      <td>28.331894414178297</td>\n",
       "      <td>27.428814198950363</td>\n",
       "      <td>27.428814198950363</td>\n",
       "      <td>212976</td>\n",
       "    </tr>\n",
       "    <tr>\n",
       "      <th>3</th>\n",
       "      <td>3</td>\n",
       "      <td>2002-08-13</td>\n",
       "      <td>27.738685607910156</td>\n",
       "      <td>28.606351223804324</td>\n",
       "      <td>27.535051261351068</td>\n",
       "      <td>28.154811257587266</td>\n",
       "      <td>153576</td>\n",
       "    </tr>\n",
       "    <tr>\n",
       "      <th>4</th>\n",
       "      <td>4</td>\n",
       "      <td>2002-08-14</td>\n",
       "      <td>25.826297760009766</td>\n",
       "      <td>27.800675890570268</td>\n",
       "      <td>25.30392621070466</td>\n",
       "      <td>27.800675890570268</td>\n",
       "      <td>822776</td>\n",
       "    </tr>\n",
       "    <tr>\n",
       "      <th>...</th>\n",
       "      <td>...</td>\n",
       "      <td>...</td>\n",
       "      <td>...</td>\n",
       "      <td>...</td>\n",
       "      <td>...</td>\n",
       "      <td>...</td>\n",
       "      <td>...</td>\n",
       "    </tr>\n",
       "    <tr>\n",
       "      <th>5595</th>\n",
       "      <td>5595</td>\n",
       "      <td>2025-02-19</td>\n",
       "      <td>3784.10009765625</td>\n",
       "      <td>3874.949951171875</td>\n",
       "      <td>3768.14990234375</td>\n",
       "      <td>3872.199951171875</td>\n",
       "      <td>4366672</td>\n",
       "    </tr>\n",
       "    <tr>\n",
       "      <th>5596</th>\n",
       "      <td>5596</td>\n",
       "      <td>2025-02-20</td>\n",
       "      <td>3779.39990234375</td>\n",
       "      <td>3788.0</td>\n",
       "      <td>3751.300048828125</td>\n",
       "      <td>3761.5</td>\n",
       "      <td>2888572</td>\n",
       "    </tr>\n",
       "    <tr>\n",
       "      <th>5597</th>\n",
       "      <td>5597</td>\n",
       "      <td>2025-02-21</td>\n",
       "      <td>3786.0</td>\n",
       "      <td>3817.0</td>\n",
       "      <td>3775.0</td>\n",
       "      <td>3776.10009765625</td>\n",
       "      <td>1833931</td>\n",
       "    </tr>\n",
       "    <tr>\n",
       "      <th>5598</th>\n",
       "      <td>5598</td>\n",
       "      <td>2025-02-24</td>\n",
       "      <td>3675.60009765625</td>\n",
       "      <td>3763.199951171875</td>\n",
       "      <td>3670.0</td>\n",
       "      <td>3743.14990234375</td>\n",
       "      <td>2508516</td>\n",
       "    </tr>\n",
       "    <tr>\n",
       "      <th>5599</th>\n",
       "      <td>5599</td>\n",
       "      <td>2025-02-25</td>\n",
       "      <td>3629.550048828125</td>\n",
       "      <td>3658.0</td>\n",
       "      <td>3621.25</td>\n",
       "      <td>3625.0</td>\n",
       "      <td>4101954</td>\n",
       "    </tr>\n",
       "  </tbody>\n",
       "</table>\n",
       "<p>5600 rows × 7 columns</p>\n",
       "</div>"
      ],
      "text/plain": [
       "      index       Price               Close                High  \\\n",
       "0         0      Ticker              TCS.NS              TCS.NS   \n",
       "1         1        Date                 NaN                 NaN   \n",
       "2         2  2002-08-12   28.11940574645996  28.331894414178297   \n",
       "3         3  2002-08-13  27.738685607910156  28.606351223804324   \n",
       "4         4  2002-08-14  25.826297760009766  27.800675890570268   \n",
       "...     ...         ...                 ...                 ...   \n",
       "5595   5595  2025-02-19    3784.10009765625   3874.949951171875   \n",
       "5596   5596  2025-02-20    3779.39990234375              3788.0   \n",
       "5597   5597  2025-02-21              3786.0              3817.0   \n",
       "5598   5598  2025-02-24    3675.60009765625   3763.199951171875   \n",
       "5599   5599  2025-02-25   3629.550048828125              3658.0   \n",
       "\n",
       "                     Low                Open   Volume  \n",
       "0                 TCS.NS              TCS.NS   TCS.NS  \n",
       "1                    NaN                 NaN      NaN  \n",
       "2     27.428814198950363  27.428814198950363   212976  \n",
       "3     27.535051261351068  28.154811257587266   153576  \n",
       "4      25.30392621070466  27.800675890570268   822776  \n",
       "...                  ...                 ...      ...  \n",
       "5595    3768.14990234375   3872.199951171875  4366672  \n",
       "5596   3751.300048828125              3761.5  2888572  \n",
       "5597              3775.0    3776.10009765625  1833931  \n",
       "5598              3670.0    3743.14990234375  2508516  \n",
       "5599             3621.25              3625.0  4101954  \n",
       "\n",
       "[5600 rows x 7 columns]"
      ]
     },
     "execution_count": 21,
     "metadata": {},
     "output_type": "execute_result"
    }
   ],
   "source": [
    "df"
   ]
  },
  {
   "cell_type": "code",
   "execution_count": 23,
   "metadata": {
    "id": "i9l8xze7YS3K"
   },
   "outputs": [],
   "source": [
    "df = df.drop(['index','Price'],axis = 1)"
   ]
  },
  {
   "cell_type": "code",
   "execution_count": 25,
   "metadata": {
    "colab": {
     "base_uri": "https://localhost:8080/",
     "height": 423
    },
    "id": "EFACYAzaYS0N",
    "outputId": "1e221e43-bfe6-474b-bac9-290b8e45a660"
   },
   "outputs": [
    {
     "data": {
      "text/html": [
       "<div>\n",
       "<style scoped>\n",
       "    .dataframe tbody tr th:only-of-type {\n",
       "        vertical-align: middle;\n",
       "    }\n",
       "\n",
       "    .dataframe tbody tr th {\n",
       "        vertical-align: top;\n",
       "    }\n",
       "\n",
       "    .dataframe thead th {\n",
       "        text-align: right;\n",
       "    }\n",
       "</style>\n",
       "<table border=\"1\" class=\"dataframe\">\n",
       "  <thead>\n",
       "    <tr style=\"text-align: right;\">\n",
       "      <th></th>\n",
       "      <th>Close</th>\n",
       "      <th>High</th>\n",
       "      <th>Low</th>\n",
       "      <th>Open</th>\n",
       "      <th>Volume</th>\n",
       "    </tr>\n",
       "  </thead>\n",
       "  <tbody>\n",
       "    <tr>\n",
       "      <th>0</th>\n",
       "      <td>TCS.NS</td>\n",
       "      <td>TCS.NS</td>\n",
       "      <td>TCS.NS</td>\n",
       "      <td>TCS.NS</td>\n",
       "      <td>TCS.NS</td>\n",
       "    </tr>\n",
       "    <tr>\n",
       "      <th>1</th>\n",
       "      <td>NaN</td>\n",
       "      <td>NaN</td>\n",
       "      <td>NaN</td>\n",
       "      <td>NaN</td>\n",
       "      <td>NaN</td>\n",
       "    </tr>\n",
       "    <tr>\n",
       "      <th>2</th>\n",
       "      <td>28.11940574645996</td>\n",
       "      <td>28.331894414178297</td>\n",
       "      <td>27.428814198950363</td>\n",
       "      <td>27.428814198950363</td>\n",
       "      <td>212976</td>\n",
       "    </tr>\n",
       "    <tr>\n",
       "      <th>3</th>\n",
       "      <td>27.738685607910156</td>\n",
       "      <td>28.606351223804324</td>\n",
       "      <td>27.535051261351068</td>\n",
       "      <td>28.154811257587266</td>\n",
       "      <td>153576</td>\n",
       "    </tr>\n",
       "    <tr>\n",
       "      <th>4</th>\n",
       "      <td>25.826297760009766</td>\n",
       "      <td>27.800675890570268</td>\n",
       "      <td>25.30392621070466</td>\n",
       "      <td>27.800675890570268</td>\n",
       "      <td>822776</td>\n",
       "    </tr>\n",
       "    <tr>\n",
       "      <th>...</th>\n",
       "      <td>...</td>\n",
       "      <td>...</td>\n",
       "      <td>...</td>\n",
       "      <td>...</td>\n",
       "      <td>...</td>\n",
       "    </tr>\n",
       "    <tr>\n",
       "      <th>5595</th>\n",
       "      <td>3784.10009765625</td>\n",
       "      <td>3874.949951171875</td>\n",
       "      <td>3768.14990234375</td>\n",
       "      <td>3872.199951171875</td>\n",
       "      <td>4366672</td>\n",
       "    </tr>\n",
       "    <tr>\n",
       "      <th>5596</th>\n",
       "      <td>3779.39990234375</td>\n",
       "      <td>3788.0</td>\n",
       "      <td>3751.300048828125</td>\n",
       "      <td>3761.5</td>\n",
       "      <td>2888572</td>\n",
       "    </tr>\n",
       "    <tr>\n",
       "      <th>5597</th>\n",
       "      <td>3786.0</td>\n",
       "      <td>3817.0</td>\n",
       "      <td>3775.0</td>\n",
       "      <td>3776.10009765625</td>\n",
       "      <td>1833931</td>\n",
       "    </tr>\n",
       "    <tr>\n",
       "      <th>5598</th>\n",
       "      <td>3675.60009765625</td>\n",
       "      <td>3763.199951171875</td>\n",
       "      <td>3670.0</td>\n",
       "      <td>3743.14990234375</td>\n",
       "      <td>2508516</td>\n",
       "    </tr>\n",
       "    <tr>\n",
       "      <th>5599</th>\n",
       "      <td>3629.550048828125</td>\n",
       "      <td>3658.0</td>\n",
       "      <td>3621.25</td>\n",
       "      <td>3625.0</td>\n",
       "      <td>4101954</td>\n",
       "    </tr>\n",
       "  </tbody>\n",
       "</table>\n",
       "<p>5600 rows × 5 columns</p>\n",
       "</div>"
      ],
      "text/plain": [
       "                   Close                High                 Low  \\\n",
       "0                 TCS.NS              TCS.NS              TCS.NS   \n",
       "1                    NaN                 NaN                 NaN   \n",
       "2      28.11940574645996  28.331894414178297  27.428814198950363   \n",
       "3     27.738685607910156  28.606351223804324  27.535051261351068   \n",
       "4     25.826297760009766  27.800675890570268   25.30392621070466   \n",
       "...                  ...                 ...                 ...   \n",
       "5595    3784.10009765625   3874.949951171875    3768.14990234375   \n",
       "5596    3779.39990234375              3788.0   3751.300048828125   \n",
       "5597              3786.0              3817.0              3775.0   \n",
       "5598    3675.60009765625   3763.199951171875              3670.0   \n",
       "5599   3629.550048828125              3658.0             3621.25   \n",
       "\n",
       "                    Open   Volume  \n",
       "0                 TCS.NS   TCS.NS  \n",
       "1                    NaN      NaN  \n",
       "2     27.428814198950363   212976  \n",
       "3     28.154811257587266   153576  \n",
       "4     27.800675890570268   822776  \n",
       "...                  ...      ...  \n",
       "5595   3872.199951171875  4366672  \n",
       "5596              3761.5  2888572  \n",
       "5597    3776.10009765625  1833931  \n",
       "5598    3743.14990234375  2508516  \n",
       "5599              3625.0  4101954  \n",
       "\n",
       "[5600 rows x 5 columns]"
      ]
     },
     "execution_count": 25,
     "metadata": {},
     "output_type": "execute_result"
    }
   ],
   "source": [
    "df"
   ]
  },
  {
   "cell_type": "code",
   "execution_count": 27,
   "metadata": {
    "colab": {
     "base_uri": "https://localhost:8080/",
     "height": 206
    },
    "id": "pU6xl8u_YSxM",
    "outputId": "671b922e-e879-4dbe-9193-35b74c70cca7"
   },
   "outputs": [
    {
     "data": {
      "text/html": [
       "<div>\n",
       "<style scoped>\n",
       "    .dataframe tbody tr th:only-of-type {\n",
       "        vertical-align: middle;\n",
       "    }\n",
       "\n",
       "    .dataframe tbody tr th {\n",
       "        vertical-align: top;\n",
       "    }\n",
       "\n",
       "    .dataframe thead th {\n",
       "        text-align: right;\n",
       "    }\n",
       "</style>\n",
       "<table border=\"1\" class=\"dataframe\">\n",
       "  <thead>\n",
       "    <tr style=\"text-align: right;\">\n",
       "      <th></th>\n",
       "      <th>Close</th>\n",
       "      <th>High</th>\n",
       "      <th>Low</th>\n",
       "      <th>Open</th>\n",
       "      <th>Volume</th>\n",
       "    </tr>\n",
       "  </thead>\n",
       "  <tbody>\n",
       "    <tr>\n",
       "      <th>0</th>\n",
       "      <td>TCS.NS</td>\n",
       "      <td>TCS.NS</td>\n",
       "      <td>TCS.NS</td>\n",
       "      <td>TCS.NS</td>\n",
       "      <td>TCS.NS</td>\n",
       "    </tr>\n",
       "    <tr>\n",
       "      <th>1</th>\n",
       "      <td>NaN</td>\n",
       "      <td>NaN</td>\n",
       "      <td>NaN</td>\n",
       "      <td>NaN</td>\n",
       "      <td>NaN</td>\n",
       "    </tr>\n",
       "    <tr>\n",
       "      <th>2</th>\n",
       "      <td>28.11940574645996</td>\n",
       "      <td>28.331894414178297</td>\n",
       "      <td>27.428814198950363</td>\n",
       "      <td>27.428814198950363</td>\n",
       "      <td>212976</td>\n",
       "    </tr>\n",
       "    <tr>\n",
       "      <th>3</th>\n",
       "      <td>27.738685607910156</td>\n",
       "      <td>28.606351223804324</td>\n",
       "      <td>27.535051261351068</td>\n",
       "      <td>28.154811257587266</td>\n",
       "      <td>153576</td>\n",
       "    </tr>\n",
       "    <tr>\n",
       "      <th>4</th>\n",
       "      <td>25.826297760009766</td>\n",
       "      <td>27.800675890570268</td>\n",
       "      <td>25.30392621070466</td>\n",
       "      <td>27.800675890570268</td>\n",
       "      <td>822776</td>\n",
       "    </tr>\n",
       "  </tbody>\n",
       "</table>\n",
       "</div>"
      ],
      "text/plain": [
       "                Close                High                 Low  \\\n",
       "0              TCS.NS              TCS.NS              TCS.NS   \n",
       "1                 NaN                 NaN                 NaN   \n",
       "2   28.11940574645996  28.331894414178297  27.428814198950363   \n",
       "3  27.738685607910156  28.606351223804324  27.535051261351068   \n",
       "4  25.826297760009766  27.800675890570268   25.30392621070466   \n",
       "\n",
       "                 Open  Volume  \n",
       "0              TCS.NS  TCS.NS  \n",
       "1                 NaN     NaN  \n",
       "2  27.428814198950363  212976  \n",
       "3  28.154811257587266  153576  \n",
       "4  27.800675890570268  822776  "
      ]
     },
     "execution_count": 27,
     "metadata": {},
     "output_type": "execute_result"
    }
   ],
   "source": [
    "df.head()"
   ]
  },
  {
   "cell_type": "code",
   "execution_count": 29,
   "metadata": {
    "colab": {
     "base_uri": "https://localhost:8080/",
     "height": 206
    },
    "id": "9XfqsPB-YSun",
    "outputId": "69a9332a-3794-4b40-859a-77aa83424b58"
   },
   "outputs": [
    {
     "data": {
      "text/html": [
       "<div>\n",
       "<style scoped>\n",
       "    .dataframe tbody tr th:only-of-type {\n",
       "        vertical-align: middle;\n",
       "    }\n",
       "\n",
       "    .dataframe tbody tr th {\n",
       "        vertical-align: top;\n",
       "    }\n",
       "\n",
       "    .dataframe thead th {\n",
       "        text-align: right;\n",
       "    }\n",
       "</style>\n",
       "<table border=\"1\" class=\"dataframe\">\n",
       "  <thead>\n",
       "    <tr style=\"text-align: right;\">\n",
       "      <th></th>\n",
       "      <th>Close</th>\n",
       "      <th>High</th>\n",
       "      <th>Low</th>\n",
       "      <th>Open</th>\n",
       "      <th>Volume</th>\n",
       "    </tr>\n",
       "  </thead>\n",
       "  <tbody>\n",
       "    <tr>\n",
       "      <th>5595</th>\n",
       "      <td>3784.10009765625</td>\n",
       "      <td>3874.949951171875</td>\n",
       "      <td>3768.14990234375</td>\n",
       "      <td>3872.199951171875</td>\n",
       "      <td>4366672</td>\n",
       "    </tr>\n",
       "    <tr>\n",
       "      <th>5596</th>\n",
       "      <td>3779.39990234375</td>\n",
       "      <td>3788.0</td>\n",
       "      <td>3751.300048828125</td>\n",
       "      <td>3761.5</td>\n",
       "      <td>2888572</td>\n",
       "    </tr>\n",
       "    <tr>\n",
       "      <th>5597</th>\n",
       "      <td>3786.0</td>\n",
       "      <td>3817.0</td>\n",
       "      <td>3775.0</td>\n",
       "      <td>3776.10009765625</td>\n",
       "      <td>1833931</td>\n",
       "    </tr>\n",
       "    <tr>\n",
       "      <th>5598</th>\n",
       "      <td>3675.60009765625</td>\n",
       "      <td>3763.199951171875</td>\n",
       "      <td>3670.0</td>\n",
       "      <td>3743.14990234375</td>\n",
       "      <td>2508516</td>\n",
       "    </tr>\n",
       "    <tr>\n",
       "      <th>5599</th>\n",
       "      <td>3629.550048828125</td>\n",
       "      <td>3658.0</td>\n",
       "      <td>3621.25</td>\n",
       "      <td>3625.0</td>\n",
       "      <td>4101954</td>\n",
       "    </tr>\n",
       "  </tbody>\n",
       "</table>\n",
       "</div>"
      ],
      "text/plain": [
       "                  Close               High                Low  \\\n",
       "5595   3784.10009765625  3874.949951171875   3768.14990234375   \n",
       "5596   3779.39990234375             3788.0  3751.300048828125   \n",
       "5597             3786.0             3817.0             3775.0   \n",
       "5598   3675.60009765625  3763.199951171875             3670.0   \n",
       "5599  3629.550048828125             3658.0            3621.25   \n",
       "\n",
       "                   Open   Volume  \n",
       "5595  3872.199951171875  4366672  \n",
       "5596             3761.5  2888572  \n",
       "5597   3776.10009765625  1833931  \n",
       "5598   3743.14990234375  2508516  \n",
       "5599             3625.0  4101954  "
      ]
     },
     "execution_count": 29,
     "metadata": {},
     "output_type": "execute_result"
    }
   ],
   "source": [
    "df.tail()"
   ]
  },
  {
   "cell_type": "code",
   "execution_count": 31,
   "metadata": {
    "colab": {
     "base_uri": "https://localhost:8080/"
    },
    "id": "yV7g3J1GhS1B",
    "outputId": "8b324eb0-c677-41fe-f983-a1041822502f"
   },
   "outputs": [
    {
     "name": "stdout",
     "output_type": "stream",
     "text": [
      "<class 'pandas.core.frame.DataFrame'>\n",
      "RangeIndex: 5600 entries, 0 to 5599\n",
      "Data columns (total 5 columns):\n",
      " #   Column  Non-Null Count  Dtype \n",
      "---  ------  --------------  ----- \n",
      " 0   Close   5599 non-null   object\n",
      " 1   High    5599 non-null   object\n",
      " 2   Low     5599 non-null   object\n",
      " 3   Open    5599 non-null   object\n",
      " 4   Volume  5599 non-null   object\n",
      "dtypes: object(5)\n",
      "memory usage: 218.9+ KB\n"
     ]
    }
   ],
   "source": [
    "df.info()"
   ]
  },
  {
   "cell_type": "code",
   "execution_count": 33,
   "metadata": {
    "id": "P2FJAbkYgC5r"
   },
   "outputs": [
    {
     "name": "stderr",
     "output_type": "stream",
     "text": [
      "<>:3: SyntaxWarning: invalid escape sequence '\\$'\n",
      "<>:3: SyntaxWarning: invalid escape sequence '\\$'\n",
      "C:\\Users\\Shivam Shere\\AppData\\Local\\Temp\\ipykernel_4744\\1775163916.py:3: SyntaxWarning: invalid escape sequence '\\$'\n",
      "  df = df.replace('[\\$,]', '', regex=True)\n"
     ]
    }
   ],
   "source": [
    "# Clean the data \n",
    "#Remove '$' and commas if present\n",
    "df = df.replace('[\\$,]', '', regex=True) "
   ]
  },
  {
   "cell_type": "code",
   "execution_count": 35,
   "metadata": {
    "id": "AkDUGEwHgC2e"
   },
   "outputs": [],
   "source": [
    "# Convert all columns to numeric (float64)\n",
    "df = df.apply(pd.to_numeric, errors='coerce')"
   ]
  },
  {
   "cell_type": "code",
   "execution_count": 37,
   "metadata": {
    "id": "NEAWmu6NgCz3"
   },
   "outputs": [],
   "source": [
    "# Handle NaN values \n",
    "df = df.fillna(0)  # Fill NaN values with 0 "
   ]
  },
  {
   "cell_type": "code",
   "execution_count": 39,
   "metadata": {
    "id": "ppN1urAfgCql"
   },
   "outputs": [],
   "source": [
    "# Convert all columns to float64\n",
    "df = df.astype('float64')"
   ]
  },
  {
   "cell_type": "code",
   "execution_count": 41,
   "metadata": {
    "colab": {
     "base_uri": "https://localhost:8080/"
    },
    "id": "HAcE_q3YfdnD",
    "outputId": "0eebd3d0-8212-476b-af0d-46ed64b139fd"
   },
   "outputs": [
    {
     "data": {
      "text/html": [
       "<div>\n",
       "<style scoped>\n",
       "    .dataframe tbody tr th:only-of-type {\n",
       "        vertical-align: middle;\n",
       "    }\n",
       "\n",
       "    .dataframe tbody tr th {\n",
       "        vertical-align: top;\n",
       "    }\n",
       "\n",
       "    .dataframe thead th {\n",
       "        text-align: right;\n",
       "    }\n",
       "</style>\n",
       "<table border=\"1\" class=\"dataframe\">\n",
       "  <thead>\n",
       "    <tr style=\"text-align: right;\">\n",
       "      <th></th>\n",
       "      <th>Close</th>\n",
       "      <th>High</th>\n",
       "      <th>Low</th>\n",
       "      <th>Open</th>\n",
       "      <th>Volume</th>\n",
       "    </tr>\n",
       "  </thead>\n",
       "  <tbody>\n",
       "    <tr>\n",
       "      <th>0</th>\n",
       "      <td>0.000000</td>\n",
       "      <td>0.000000</td>\n",
       "      <td>0.000000</td>\n",
       "      <td>0.000000</td>\n",
       "      <td>0.0</td>\n",
       "    </tr>\n",
       "    <tr>\n",
       "      <th>1</th>\n",
       "      <td>0.000000</td>\n",
       "      <td>0.000000</td>\n",
       "      <td>0.000000</td>\n",
       "      <td>0.000000</td>\n",
       "      <td>0.0</td>\n",
       "    </tr>\n",
       "    <tr>\n",
       "      <th>2</th>\n",
       "      <td>28.119406</td>\n",
       "      <td>28.331894</td>\n",
       "      <td>27.428814</td>\n",
       "      <td>27.428814</td>\n",
       "      <td>212976.0</td>\n",
       "    </tr>\n",
       "    <tr>\n",
       "      <th>3</th>\n",
       "      <td>27.738686</td>\n",
       "      <td>28.606351</td>\n",
       "      <td>27.535051</td>\n",
       "      <td>28.154811</td>\n",
       "      <td>153576.0</td>\n",
       "    </tr>\n",
       "    <tr>\n",
       "      <th>4</th>\n",
       "      <td>25.826298</td>\n",
       "      <td>27.800676</td>\n",
       "      <td>25.303926</td>\n",
       "      <td>27.800676</td>\n",
       "      <td>822776.0</td>\n",
       "    </tr>\n",
       "    <tr>\n",
       "      <th>...</th>\n",
       "      <td>...</td>\n",
       "      <td>...</td>\n",
       "      <td>...</td>\n",
       "      <td>...</td>\n",
       "      <td>...</td>\n",
       "    </tr>\n",
       "    <tr>\n",
       "      <th>5595</th>\n",
       "      <td>3784.100098</td>\n",
       "      <td>3874.949951</td>\n",
       "      <td>3768.149902</td>\n",
       "      <td>3872.199951</td>\n",
       "      <td>4366672.0</td>\n",
       "    </tr>\n",
       "    <tr>\n",
       "      <th>5596</th>\n",
       "      <td>3779.399902</td>\n",
       "      <td>3788.000000</td>\n",
       "      <td>3751.300049</td>\n",
       "      <td>3761.500000</td>\n",
       "      <td>2888572.0</td>\n",
       "    </tr>\n",
       "    <tr>\n",
       "      <th>5597</th>\n",
       "      <td>3786.000000</td>\n",
       "      <td>3817.000000</td>\n",
       "      <td>3775.000000</td>\n",
       "      <td>3776.100098</td>\n",
       "      <td>1833931.0</td>\n",
       "    </tr>\n",
       "    <tr>\n",
       "      <th>5598</th>\n",
       "      <td>3675.600098</td>\n",
       "      <td>3763.199951</td>\n",
       "      <td>3670.000000</td>\n",
       "      <td>3743.149902</td>\n",
       "      <td>2508516.0</td>\n",
       "    </tr>\n",
       "    <tr>\n",
       "      <th>5599</th>\n",
       "      <td>3629.550049</td>\n",
       "      <td>3658.000000</td>\n",
       "      <td>3621.250000</td>\n",
       "      <td>3625.000000</td>\n",
       "      <td>4101954.0</td>\n",
       "    </tr>\n",
       "  </tbody>\n",
       "</table>\n",
       "<p>5600 rows × 5 columns</p>\n",
       "</div>"
      ],
      "text/plain": [
       "            Close         High          Low         Open     Volume\n",
       "0        0.000000     0.000000     0.000000     0.000000        0.0\n",
       "1        0.000000     0.000000     0.000000     0.000000        0.0\n",
       "2       28.119406    28.331894    27.428814    27.428814   212976.0\n",
       "3       27.738686    28.606351    27.535051    28.154811   153576.0\n",
       "4       25.826298    27.800676    25.303926    27.800676   822776.0\n",
       "...           ...          ...          ...          ...        ...\n",
       "5595  3784.100098  3874.949951  3768.149902  3872.199951  4366672.0\n",
       "5596  3779.399902  3788.000000  3751.300049  3761.500000  2888572.0\n",
       "5597  3786.000000  3817.000000  3775.000000  3776.100098  1833931.0\n",
       "5598  3675.600098  3763.199951  3670.000000  3743.149902  2508516.0\n",
       "5599  3629.550049  3658.000000  3621.250000  3625.000000  4101954.0\n",
       "\n",
       "[5600 rows x 5 columns]"
      ]
     },
     "execution_count": 41,
     "metadata": {},
     "output_type": "execute_result"
    }
   ],
   "source": [
    "df"
   ]
  },
  {
   "cell_type": "code",
   "execution_count": 43,
   "metadata": {
    "colab": {
     "base_uri": "https://localhost:8080/",
     "height": 206
    },
    "id": "K_0-1PX0lmDl",
    "outputId": "bcdfe2c7-a8d3-4cf0-fc5a-072207a09168"
   },
   "outputs": [
    {
     "data": {
      "text/html": [
       "<div>\n",
       "<style scoped>\n",
       "    .dataframe tbody tr th:only-of-type {\n",
       "        vertical-align: middle;\n",
       "    }\n",
       "\n",
       "    .dataframe tbody tr th {\n",
       "        vertical-align: top;\n",
       "    }\n",
       "\n",
       "    .dataframe thead th {\n",
       "        text-align: right;\n",
       "    }\n",
       "</style>\n",
       "<table border=\"1\" class=\"dataframe\">\n",
       "  <thead>\n",
       "    <tr style=\"text-align: right;\">\n",
       "      <th></th>\n",
       "      <th>Close</th>\n",
       "      <th>High</th>\n",
       "      <th>Low</th>\n",
       "      <th>Open</th>\n",
       "      <th>Volume</th>\n",
       "    </tr>\n",
       "  </thead>\n",
       "  <tbody>\n",
       "    <tr>\n",
       "      <th>0</th>\n",
       "      <td>0.000000</td>\n",
       "      <td>0.000000</td>\n",
       "      <td>0.000000</td>\n",
       "      <td>0.000000</td>\n",
       "      <td>0.0</td>\n",
       "    </tr>\n",
       "    <tr>\n",
       "      <th>1</th>\n",
       "      <td>0.000000</td>\n",
       "      <td>0.000000</td>\n",
       "      <td>0.000000</td>\n",
       "      <td>0.000000</td>\n",
       "      <td>0.0</td>\n",
       "    </tr>\n",
       "    <tr>\n",
       "      <th>2</th>\n",
       "      <td>28.119406</td>\n",
       "      <td>28.331894</td>\n",
       "      <td>27.428814</td>\n",
       "      <td>27.428814</td>\n",
       "      <td>212976.0</td>\n",
       "    </tr>\n",
       "    <tr>\n",
       "      <th>3</th>\n",
       "      <td>27.738686</td>\n",
       "      <td>28.606351</td>\n",
       "      <td>27.535051</td>\n",
       "      <td>28.154811</td>\n",
       "      <td>153576.0</td>\n",
       "    </tr>\n",
       "    <tr>\n",
       "      <th>4</th>\n",
       "      <td>25.826298</td>\n",
       "      <td>27.800676</td>\n",
       "      <td>25.303926</td>\n",
       "      <td>27.800676</td>\n",
       "      <td>822776.0</td>\n",
       "    </tr>\n",
       "  </tbody>\n",
       "</table>\n",
       "</div>"
      ],
      "text/plain": [
       "       Close       High        Low       Open    Volume\n",
       "0   0.000000   0.000000   0.000000   0.000000       0.0\n",
       "1   0.000000   0.000000   0.000000   0.000000       0.0\n",
       "2  28.119406  28.331894  27.428814  27.428814  212976.0\n",
       "3  27.738686  28.606351  27.535051  28.154811  153576.0\n",
       "4  25.826298  27.800676  25.303926  27.800676  822776.0"
      ]
     },
     "execution_count": 43,
     "metadata": {},
     "output_type": "execute_result"
    }
   ],
   "source": [
    "df.head()"
   ]
  },
  {
   "cell_type": "code",
   "execution_count": 45,
   "metadata": {
    "colab": {
     "base_uri": "https://localhost:8080/",
     "height": 206
    },
    "id": "7Z5k8CPdlo0H",
    "outputId": "796630e7-7a07-4020-ec44-fde8815b2310"
   },
   "outputs": [
    {
     "data": {
      "text/html": [
       "<div>\n",
       "<style scoped>\n",
       "    .dataframe tbody tr th:only-of-type {\n",
       "        vertical-align: middle;\n",
       "    }\n",
       "\n",
       "    .dataframe tbody tr th {\n",
       "        vertical-align: top;\n",
       "    }\n",
       "\n",
       "    .dataframe thead th {\n",
       "        text-align: right;\n",
       "    }\n",
       "</style>\n",
       "<table border=\"1\" class=\"dataframe\">\n",
       "  <thead>\n",
       "    <tr style=\"text-align: right;\">\n",
       "      <th></th>\n",
       "      <th>Close</th>\n",
       "      <th>High</th>\n",
       "      <th>Low</th>\n",
       "      <th>Open</th>\n",
       "      <th>Volume</th>\n",
       "    </tr>\n",
       "  </thead>\n",
       "  <tbody>\n",
       "    <tr>\n",
       "      <th>5595</th>\n",
       "      <td>3784.100098</td>\n",
       "      <td>3874.949951</td>\n",
       "      <td>3768.149902</td>\n",
       "      <td>3872.199951</td>\n",
       "      <td>4366672.0</td>\n",
       "    </tr>\n",
       "    <tr>\n",
       "      <th>5596</th>\n",
       "      <td>3779.399902</td>\n",
       "      <td>3788.000000</td>\n",
       "      <td>3751.300049</td>\n",
       "      <td>3761.500000</td>\n",
       "      <td>2888572.0</td>\n",
       "    </tr>\n",
       "    <tr>\n",
       "      <th>5597</th>\n",
       "      <td>3786.000000</td>\n",
       "      <td>3817.000000</td>\n",
       "      <td>3775.000000</td>\n",
       "      <td>3776.100098</td>\n",
       "      <td>1833931.0</td>\n",
       "    </tr>\n",
       "    <tr>\n",
       "      <th>5598</th>\n",
       "      <td>3675.600098</td>\n",
       "      <td>3763.199951</td>\n",
       "      <td>3670.000000</td>\n",
       "      <td>3743.149902</td>\n",
       "      <td>2508516.0</td>\n",
       "    </tr>\n",
       "    <tr>\n",
       "      <th>5599</th>\n",
       "      <td>3629.550049</td>\n",
       "      <td>3658.000000</td>\n",
       "      <td>3621.250000</td>\n",
       "      <td>3625.000000</td>\n",
       "      <td>4101954.0</td>\n",
       "    </tr>\n",
       "  </tbody>\n",
       "</table>\n",
       "</div>"
      ],
      "text/plain": [
       "            Close         High          Low         Open     Volume\n",
       "5595  3784.100098  3874.949951  3768.149902  3872.199951  4366672.0\n",
       "5596  3779.399902  3788.000000  3751.300049  3761.500000  2888572.0\n",
       "5597  3786.000000  3817.000000  3775.000000  3776.100098  1833931.0\n",
       "5598  3675.600098  3763.199951  3670.000000  3743.149902  2508516.0\n",
       "5599  3629.550049  3658.000000  3621.250000  3625.000000  4101954.0"
      ]
     },
     "execution_count": 45,
     "metadata": {},
     "output_type": "execute_result"
    }
   ],
   "source": [
    "df.tail()"
   ]
  },
  {
   "cell_type": "code",
   "execution_count": 47,
   "metadata": {
    "colab": {
     "base_uri": "https://localhost:8080/"
    },
    "id": "wYrcs8psfdka",
    "outputId": "77ac4ffb-78d0-46bc-c54d-a9b451c994ff"
   },
   "outputs": [
    {
     "name": "stdout",
     "output_type": "stream",
     "text": [
      "<class 'pandas.core.frame.DataFrame'>\n",
      "RangeIndex: 5600 entries, 0 to 5599\n",
      "Data columns (total 5 columns):\n",
      " #   Column  Non-Null Count  Dtype  \n",
      "---  ------  --------------  -----  \n",
      " 0   Close   5600 non-null   float64\n",
      " 1   High    5600 non-null   float64\n",
      " 2   Low     5600 non-null   float64\n",
      " 3   Open    5600 non-null   float64\n",
      " 4   Volume  5600 non-null   float64\n",
      "dtypes: float64(5)\n",
      "memory usage: 218.9 KB\n"
     ]
    }
   ],
   "source": [
    "df.info()"
   ]
  },
  {
   "cell_type": "code",
   "execution_count": 49,
   "metadata": {
    "id": "iFoyyFDU0-M_"
   },
   "outputs": [],
   "source": [
    "df = pd.DataFrame(df)\n",
    "\n",
    "# Save the clean data DataFrame to a CSV file\n",
    "df.to_csv('TCS.NS_clean data.csv', index=False)"
   ]
  },
  {
   "cell_type": "code",
   "execution_count": 53,
   "metadata": {},
   "outputs": [
    {
     "data": {
      "text/html": [
       "<div>\n",
       "<style scoped>\n",
       "    .dataframe tbody tr th:only-of-type {\n",
       "        vertical-align: middle;\n",
       "    }\n",
       "\n",
       "    .dataframe tbody tr th {\n",
       "        vertical-align: top;\n",
       "    }\n",
       "\n",
       "    .dataframe thead th {\n",
       "        text-align: right;\n",
       "    }\n",
       "</style>\n",
       "<table border=\"1\" class=\"dataframe\">\n",
       "  <thead>\n",
       "    <tr style=\"text-align: right;\">\n",
       "      <th></th>\n",
       "      <th>Close</th>\n",
       "      <th>High</th>\n",
       "      <th>Low</th>\n",
       "      <th>Open</th>\n",
       "      <th>Volume</th>\n",
       "    </tr>\n",
       "  </thead>\n",
       "  <tbody>\n",
       "    <tr>\n",
       "      <th>0</th>\n",
       "      <td>0.000000</td>\n",
       "      <td>0.000000</td>\n",
       "      <td>0.000000</td>\n",
       "      <td>0.000000</td>\n",
       "      <td>0.0</td>\n",
       "    </tr>\n",
       "    <tr>\n",
       "      <th>1</th>\n",
       "      <td>0.000000</td>\n",
       "      <td>0.000000</td>\n",
       "      <td>0.000000</td>\n",
       "      <td>0.000000</td>\n",
       "      <td>0.0</td>\n",
       "    </tr>\n",
       "    <tr>\n",
       "      <th>2</th>\n",
       "      <td>28.119406</td>\n",
       "      <td>28.331894</td>\n",
       "      <td>27.428814</td>\n",
       "      <td>27.428814</td>\n",
       "      <td>212976.0</td>\n",
       "    </tr>\n",
       "    <tr>\n",
       "      <th>3</th>\n",
       "      <td>27.738686</td>\n",
       "      <td>28.606351</td>\n",
       "      <td>27.535051</td>\n",
       "      <td>28.154811</td>\n",
       "      <td>153576.0</td>\n",
       "    </tr>\n",
       "    <tr>\n",
       "      <th>4</th>\n",
       "      <td>25.826298</td>\n",
       "      <td>27.800676</td>\n",
       "      <td>25.303926</td>\n",
       "      <td>27.800676</td>\n",
       "      <td>822776.0</td>\n",
       "    </tr>\n",
       "    <tr>\n",
       "      <th>...</th>\n",
       "      <td>...</td>\n",
       "      <td>...</td>\n",
       "      <td>...</td>\n",
       "      <td>...</td>\n",
       "      <td>...</td>\n",
       "    </tr>\n",
       "    <tr>\n",
       "      <th>5595</th>\n",
       "      <td>3784.100098</td>\n",
       "      <td>3874.949951</td>\n",
       "      <td>3768.149902</td>\n",
       "      <td>3872.199951</td>\n",
       "      <td>4366672.0</td>\n",
       "    </tr>\n",
       "    <tr>\n",
       "      <th>5596</th>\n",
       "      <td>3779.399902</td>\n",
       "      <td>3788.000000</td>\n",
       "      <td>3751.300049</td>\n",
       "      <td>3761.500000</td>\n",
       "      <td>2888572.0</td>\n",
       "    </tr>\n",
       "    <tr>\n",
       "      <th>5597</th>\n",
       "      <td>3786.000000</td>\n",
       "      <td>3817.000000</td>\n",
       "      <td>3775.000000</td>\n",
       "      <td>3776.100098</td>\n",
       "      <td>1833931.0</td>\n",
       "    </tr>\n",
       "    <tr>\n",
       "      <th>5598</th>\n",
       "      <td>3675.600098</td>\n",
       "      <td>3763.199951</td>\n",
       "      <td>3670.000000</td>\n",
       "      <td>3743.149902</td>\n",
       "      <td>2508516.0</td>\n",
       "    </tr>\n",
       "    <tr>\n",
       "      <th>5599</th>\n",
       "      <td>3629.550049</td>\n",
       "      <td>3658.000000</td>\n",
       "      <td>3621.250000</td>\n",
       "      <td>3625.000000</td>\n",
       "      <td>4101954.0</td>\n",
       "    </tr>\n",
       "  </tbody>\n",
       "</table>\n",
       "<p>5600 rows × 5 columns</p>\n",
       "</div>"
      ],
      "text/plain": [
       "            Close         High          Low         Open     Volume\n",
       "0        0.000000     0.000000     0.000000     0.000000        0.0\n",
       "1        0.000000     0.000000     0.000000     0.000000        0.0\n",
       "2       28.119406    28.331894    27.428814    27.428814   212976.0\n",
       "3       27.738686    28.606351    27.535051    28.154811   153576.0\n",
       "4       25.826298    27.800676    25.303926    27.800676   822776.0\n",
       "...           ...          ...          ...          ...        ...\n",
       "5595  3784.100098  3874.949951  3768.149902  3872.199951  4366672.0\n",
       "5596  3779.399902  3788.000000  3751.300049  3761.500000  2888572.0\n",
       "5597  3786.000000  3817.000000  3775.000000  3776.100098  1833931.0\n",
       "5598  3675.600098  3763.199951  3670.000000  3743.149902  2508516.0\n",
       "5599  3629.550049  3658.000000  3621.250000  3625.000000  4101954.0\n",
       "\n",
       "[5600 rows x 5 columns]"
      ]
     },
     "execution_count": 53,
     "metadata": {},
     "output_type": "execute_result"
    }
   ],
   "source": [
    "# Data Loading\n",
    "df = pd.read_csv('TCS.NS_clean data.csv')\n",
    "df"
   ]
  },
  {
   "cell_type": "code",
   "execution_count": 59,
   "metadata": {
    "colab": {
     "base_uri": "https://localhost:8080/",
     "height": 241
    },
    "id": "b8QyB-qvl-YC",
    "outputId": "bf467375-a663-4229-d7be-21fcb30bbf2d"
   },
   "outputs": [
    {
     "data": {
      "text/plain": [
       "Close     0\n",
       "High      0\n",
       "Low       0\n",
       "Open      0\n",
       "Volume    0\n",
       "dtype: int64"
      ]
     },
     "execution_count": 59,
     "metadata": {},
     "output_type": "execute_result"
    }
   ],
   "source": [
    "df.isna().sum()"
   ]
  },
  {
   "cell_type": "code",
   "execution_count": 61,
   "metadata": {
    "colab": {
     "base_uri": "https://localhost:8080/"
    },
    "id": "BMicywDuxrKM",
    "outputId": "6f552ed0-42f6-473b-d812-73f4a1c8e1c9"
   },
   "outputs": [
    {
     "data": {
      "text/plain": [
       "(5600, 5)"
      ]
     },
     "execution_count": 61,
     "metadata": {},
     "output_type": "execute_result"
    }
   ],
   "source": [
    "df.shape"
   ]
  },
  {
   "cell_type": "code",
   "execution_count": null,
   "metadata": {},
   "outputs": [],
   "source": []
  },
  {
   "cell_type": "code",
   "execution_count": 63,
   "metadata": {
    "colab": {
     "base_uri": "https://localhost:8080/",
     "height": 447
    },
    "id": "15yl60sqYSfv",
    "outputId": "b0da2c0f-ea44-4733-9e2c-2bc584ad2048"
   },
   "outputs": [
    {
     "data": {
      "text/plain": [
       "<Figure size 1500x500 with 0 Axes>"
      ]
     },
     "execution_count": 63,
     "metadata": {},
     "output_type": "execute_result"
    },
    {
     "data": {
      "image/png": "[encoded data removed]",
      "text/plain": [
       "<Figure size 640x480 with 1 Axes>"
      ]
     },
     "metadata": {},
     "output_type": "display_data"
    },
    {
     "data": {
      "text/plain": [
       "<Figure size 1500x500 with 0 Axes>"
      ]
     },
     "metadata": {},
     "output_type": "display_data"
    }
   ],
   "source": [
    "plt.plot(df.Close)\n",
    "plt.figure(figsize=(15, 5))"
   ]
  },
  {
   "cell_type": "code",
   "execution_count": 65,
   "metadata": {
    "colab": {
     "base_uri": "https://localhost:8080/",
     "height": 458
    },
    "id": "G60WqODBYScX",
    "outputId": "3d07452a-1666-45a1-d9b6-4f87401fa5ad"
   },
   "outputs": [
    {
     "data": {
      "text/plain": [
       "0               NaN\n",
       "1               NaN\n",
       "2               NaN\n",
       "3               NaN\n",
       "4               NaN\n",
       "           ...     \n",
       "5595    4105.052732\n",
       "5596    4100.933743\n",
       "5597    4096.690261\n",
       "5598    4091.884309\n",
       "5599    4086.426382\n",
       "Name: Close, Length: 5600, dtype: float64"
      ]
     },
     "execution_count": 65,
     "metadata": {},
     "output_type": "execute_result"
    }
   ],
   "source": [
    "ma100 = df.Close.rolling(100).mean()\n",
    "ma100"
   ]
  },
  {
   "cell_type": "code",
   "execution_count": 67,
   "metadata": {
    "colab": {
     "base_uri": "https://localhost:8080/",
     "height": 545
    },
    "id": "8sseuTnIYSZg",
    "outputId": "bdc487f6-87f9-4851-8a3e-0c7ba05c5bad"
   },
   "outputs": [
    {
     "data": {
      "image/png": "[encoded data removed]",
      "text/plain": [
       "<Figure size 1500x500 with 1 Axes>"
      ]
     },
     "metadata": {},
     "output_type": "display_data"
    }
   ],
   "source": [
    "# Plot the data\n",
    "plt.figure(figsize=(15, 5))\n",
    "plt.plot(df['Close'], label='Close Price', color='blue')\n",
    "plt.plot(ma100, label='100-Day Moving Average', color='red')  # Solid line (default)\n",
    "plt.title('Stock Price with 100-Day Moving Average')\n",
    "\n",
    "plt.legend()\n",
    "plt.grid()\n",
    "plt.show()"
   ]
  },
  {
   "cell_type": "code",
   "execution_count": 69,
   "metadata": {
    "colab": {
     "base_uri": "https://localhost:8080/",
     "height": 458
    },
    "id": "XXlgjujZw0kt",
    "outputId": "2226f6b0-ce38-4fc8-cd90-a4570f5e1e8c"
   },
   "outputs": [
    {
     "data": {
      "text/plain": [
       "0               NaN\n",
       "1               NaN\n",
       "2               NaN\n",
       "3               NaN\n",
       "4               NaN\n",
       "           ...     \n",
       "5595    4082.209983\n",
       "5596    4081.757950\n",
       "5597    4081.348646\n",
       "5598    4080.468794\n",
       "5599    4079.681099\n",
       "Name: Close, Length: 5600, dtype: float64"
      ]
     },
     "execution_count": 69,
     "metadata": {},
     "output_type": "execute_result"
    }
   ],
   "source": [
    "ma200 = df.Close.rolling(200).mean()\n",
    "ma200"
   ]
  },
  {
   "cell_type": "code",
   "execution_count": 71,
   "metadata": {
    "colab": {
     "base_uri": "https://localhost:8080/",
     "height": 545
    },
    "id": "1iltIjsoxKsw",
    "outputId": "10ee4466-f74b-485e-da7b-538524c11d8b"
   },
   "outputs": [
    {
     "data": {
      "image/png": "[encoded data removed]",
      "text/plain": [
       "<Figure size 1500x500 with 1 Axes>"
      ]
     },
     "metadata": {},
     "output_type": "display_data"
    }
   ],
   "source": [
    "# Plot the data\n",
    "plt.figure(figsize=(15, 5))\n",
    "plt.plot(df['Close'], label='Close Price', color='blue')\n",
    "plt.plot(ma100, label='100-Day Moving Average', color='red')  \n",
    "plt.plot(ma200, label='200-Day Moving Average', color='green')  \n",
    "plt.title('Stock Price with 100-Day & 200-Day Moving Average')\n",
    "\n",
    "plt.legend()\n",
    "plt.grid()\n",
    "plt.show()"
   ]
  },
  {
   "cell_type": "code",
   "execution_count": 73,
   "metadata": {
    "colab": {
     "base_uri": "https://localhost:8080/"
    },
    "id": "WMtUo-m5x6E2",
    "outputId": "47e3f41d-a1f6-422e-c1d5-ff51ef940167"
   },
   "outputs": [
    {
     "name": "stdout",
     "output_type": "stream",
     "text": [
      "(3919, 1)\n",
      "(1681, 1)\n"
     ]
    }
   ],
   "source": [
    "#Splitting data into Training and Testing\n",
    "data_training = pd.DataFrame( df['Close'] [0:int(len (df) *0.70 ) ] )\n",
    "data_testing = pd.DataFrame( df['Close'] [int(len(df) *0.70): int(len (df) )])\n",
    "\n",
    "print(data_training.shape)\n",
    "print(data_testing.shape)"
   ]
  },
  {
   "cell_type": "code",
   "execution_count": 75,
   "metadata": {
    "colab": {
     "base_uri": "https://localhost:8080/",
     "height": 206
    },
    "id": "ZCeQ5i1O1wkL",
    "outputId": "147c2e9e-7d4b-4a55-d196-948c957d77f0"
   },
   "outputs": [
    {
     "data": {
      "text/html": [
       "<div>\n",
       "<style scoped>\n",
       "    .dataframe tbody tr th:only-of-type {\n",
       "        vertical-align: middle;\n",
       "    }\n",
       "\n",
       "    .dataframe tbody tr th {\n",
       "        vertical-align: top;\n",
       "    }\n",
       "\n",
       "    .dataframe thead th {\n",
       "        text-align: right;\n",
       "    }\n",
       "</style>\n",
       "<table border=\"1\" class=\"dataframe\">\n",
       "  <thead>\n",
       "    <tr style=\"text-align: right;\">\n",
       "      <th></th>\n",
       "      <th>Close</th>\n",
       "    </tr>\n",
       "  </thead>\n",
       "  <tbody>\n",
       "    <tr>\n",
       "      <th>0</th>\n",
       "      <td>0.000000</td>\n",
       "    </tr>\n",
       "    <tr>\n",
       "      <th>1</th>\n",
       "      <td>0.000000</td>\n",
       "    </tr>\n",
       "    <tr>\n",
       "      <th>2</th>\n",
       "      <td>28.119406</td>\n",
       "    </tr>\n",
       "    <tr>\n",
       "      <th>3</th>\n",
       "      <td>27.738686</td>\n",
       "    </tr>\n",
       "    <tr>\n",
       "      <th>4</th>\n",
       "      <td>25.826298</td>\n",
       "    </tr>\n",
       "  </tbody>\n",
       "</table>\n",
       "</div>"
      ],
      "text/plain": [
       "       Close\n",
       "0   0.000000\n",
       "1   0.000000\n",
       "2  28.119406\n",
       "3  27.738686\n",
       "4  25.826298"
      ]
     },
     "execution_count": 75,
     "metadata": {},
     "output_type": "execute_result"
    }
   ],
   "source": [
    "data_training.head()"
   ]
  },
  {
   "cell_type": "code",
   "execution_count": 77,
   "metadata": {
    "colab": {
     "base_uri": "https://localhost:8080/",
     "height": 206
    },
    "id": "6PD9WpoX2HDr",
    "outputId": "82faf61a-5a59-45d0-b77c-7e9e5871432e"
   },
   "outputs": [
    {
     "data": {
      "text/html": [
       "<div>\n",
       "<style scoped>\n",
       "    .dataframe tbody tr th:only-of-type {\n",
       "        vertical-align: middle;\n",
       "    }\n",
       "\n",
       "    .dataframe tbody tr th {\n",
       "        vertical-align: top;\n",
       "    }\n",
       "\n",
       "    .dataframe thead th {\n",
       "        text-align: right;\n",
       "    }\n",
       "</style>\n",
       "<table border=\"1\" class=\"dataframe\">\n",
       "  <thead>\n",
       "    <tr style=\"text-align: right;\">\n",
       "      <th></th>\n",
       "      <th>Close</th>\n",
       "    </tr>\n",
       "  </thead>\n",
       "  <tbody>\n",
       "    <tr>\n",
       "      <th>3914</th>\n",
       "      <td>1523.645874</td>\n",
       "    </tr>\n",
       "    <tr>\n",
       "      <th>3915</th>\n",
       "      <td>1523.164429</td>\n",
       "    </tr>\n",
       "    <tr>\n",
       "      <th>3916</th>\n",
       "      <td>1496.995728</td>\n",
       "    </tr>\n",
       "    <tr>\n",
       "      <th>3917</th>\n",
       "      <td>1505.857300</td>\n",
       "    </tr>\n",
       "    <tr>\n",
       "      <th>3918</th>\n",
       "      <td>1526.906006</td>\n",
       "    </tr>\n",
       "  </tbody>\n",
       "</table>\n",
       "</div>"
      ],
      "text/plain": [
       "            Close\n",
       "3914  1523.645874\n",
       "3915  1523.164429\n",
       "3916  1496.995728\n",
       "3917  1505.857300\n",
       "3918  1526.906006"
      ]
     },
     "execution_count": 77,
     "metadata": {},
     "output_type": "execute_result"
    }
   ],
   "source": [
    "data_training.tail()"
   ]
  },
  {
   "cell_type": "code",
   "execution_count": 79,
   "metadata": {
    "colab": {
     "base_uri": "https://localhost:8080/",
     "height": 206
    },
    "id": "HmEGK_SI13BP",
    "outputId": "30b8edf4-2a16-4b0c-b9ec-a959fdc11cb8"
   },
   "outputs": [
    {
     "data": {
      "text/html": [
       "<div>\n",
       "<style scoped>\n",
       "    .dataframe tbody tr th:only-of-type {\n",
       "        vertical-align: middle;\n",
       "    }\n",
       "\n",
       "    .dataframe tbody tr th {\n",
       "        vertical-align: top;\n",
       "    }\n",
       "\n",
       "    .dataframe thead th {\n",
       "        text-align: right;\n",
       "    }\n",
       "</style>\n",
       "<table border=\"1\" class=\"dataframe\">\n",
       "  <thead>\n",
       "    <tr style=\"text-align: right;\">\n",
       "      <th></th>\n",
       "      <th>Close</th>\n",
       "    </tr>\n",
       "  </thead>\n",
       "  <tbody>\n",
       "    <tr>\n",
       "      <th>3919</th>\n",
       "      <td>1510.255127</td>\n",
       "    </tr>\n",
       "    <tr>\n",
       "      <th>3920</th>\n",
       "      <td>1512.749878</td>\n",
       "    </tr>\n",
       "    <tr>\n",
       "      <th>3921</th>\n",
       "      <td>1502.509766</td>\n",
       "    </tr>\n",
       "    <tr>\n",
       "      <th>3922</th>\n",
       "      <td>1523.886475</td>\n",
       "    </tr>\n",
       "    <tr>\n",
       "      <th>3923</th>\n",
       "      <td>1528.918823</td>\n",
       "    </tr>\n",
       "  </tbody>\n",
       "</table>\n",
       "</div>"
      ],
      "text/plain": [
       "            Close\n",
       "3919  1510.255127\n",
       "3920  1512.749878\n",
       "3921  1502.509766\n",
       "3922  1523.886475\n",
       "3923  1528.918823"
      ]
     },
     "execution_count": 79,
     "metadata": {},
     "output_type": "execute_result"
    }
   ],
   "source": [
    "data_testing.head()"
   ]
  },
  {
   "cell_type": "code",
   "execution_count": 81,
   "metadata": {
    "colab": {
     "base_uri": "https://localhost:8080/",
     "height": 206
    },
    "id": "X044egJj2Meb",
    "outputId": "d57dc826-f8bc-4b0f-8bce-74a1d490f793"
   },
   "outputs": [
    {
     "data": {
      "text/html": [
       "<div>\n",
       "<style scoped>\n",
       "    .dataframe tbody tr th:only-of-type {\n",
       "        vertical-align: middle;\n",
       "    }\n",
       "\n",
       "    .dataframe tbody tr th {\n",
       "        vertical-align: top;\n",
       "    }\n",
       "\n",
       "    .dataframe thead th {\n",
       "        text-align: right;\n",
       "    }\n",
       "</style>\n",
       "<table border=\"1\" class=\"dataframe\">\n",
       "  <thead>\n",
       "    <tr style=\"text-align: right;\">\n",
       "      <th></th>\n",
       "      <th>Close</th>\n",
       "    </tr>\n",
       "  </thead>\n",
       "  <tbody>\n",
       "    <tr>\n",
       "      <th>5595</th>\n",
       "      <td>3784.100098</td>\n",
       "    </tr>\n",
       "    <tr>\n",
       "      <th>5596</th>\n",
       "      <td>3779.399902</td>\n",
       "    </tr>\n",
       "    <tr>\n",
       "      <th>5597</th>\n",
       "      <td>3786.000000</td>\n",
       "    </tr>\n",
       "    <tr>\n",
       "      <th>5598</th>\n",
       "      <td>3675.600098</td>\n",
       "    </tr>\n",
       "    <tr>\n",
       "      <th>5599</th>\n",
       "      <td>3629.550049</td>\n",
       "    </tr>\n",
       "  </tbody>\n",
       "</table>\n",
       "</div>"
      ],
      "text/plain": [
       "            Close\n",
       "5595  3784.100098\n",
       "5596  3779.399902\n",
       "5597  3786.000000\n",
       "5598  3675.600098\n",
       "5599  3629.550049"
      ]
     },
     "execution_count": 81,
     "metadata": {},
     "output_type": "execute_result"
    }
   ],
   "source": [
    "data_testing.tail()"
   ]
  },
  {
   "cell_type": "code",
   "execution_count": 83,
   "metadata": {
    "id": "3tzYa_9r1291"
   },
   "outputs": [],
   "source": [
    "#Scaling Data\n",
    "from sklearn.preprocessing import MinMaxScaler\n",
    "scaler = MinMaxScaler(feature_range=(0,1))"
   ]
  },
  {
   "cell_type": "code",
   "execution_count": 85,
   "metadata": {
    "colab": {
     "base_uri": "https://localhost:8080/"
    },
    "id": "OPW3MJzZ127G",
    "outputId": "5b4561b9-bc7b-40fb-91be-8b7fb4645e59"
   },
   "outputs": [
    {
     "data": {
      "text/plain": [
       "array([[0.        ],\n",
       "       [0.        ],\n",
       "       [0.01815603],\n",
       "       ...,\n",
       "       [0.96657467],\n",
       "       [0.97229637],\n",
       "       [0.98588702]])"
      ]
     },
     "execution_count": 85,
     "metadata": {},
     "output_type": "execute_result"
    }
   ],
   "source": [
    "#fitting Data in MinMaxScaler & Convert into array\n",
    "data_training_array = scaler.fit_transform(data_training)\n",
    "data_training_array"
   ]
  },
  {
   "cell_type": "code",
   "execution_count": 87,
   "metadata": {
    "colab": {
     "base_uri": "https://localhost:8080/"
    },
    "id": "NImawPvC124d",
    "outputId": "8d53872b-3080-49d3-ea03-4f57a5705ae2"
   },
   "outputs": [
    {
     "data": {
      "text/plain": [
       "(3919, 1)"
      ]
     },
     "execution_count": 87,
     "metadata": {},
     "output_type": "execute_result"
    }
   ],
   "source": [
    "data_training_array.shape"
   ]
  },
  {
   "cell_type": "code",
   "execution_count": 89,
   "metadata": {
    "id": "MuL8Q9ui12vu"
   },
   "outputs": [],
   "source": [
    "#Divide data into x_train & y_train (Time series analysis anology)\n",
    "x_train = []\n",
    "y_train = []\n",
    "\n",
    "for i in range(100, data_training_array.shape[0]):\n",
    "    x_train.append(data_training_array[i-100: i])\n",
    "    y_train.append(data_training_array[i, 0])\n",
    "\n",
    "x_train, y_train = np.array(x_train), np.array(y_train)"
   ]
  },
  {
   "cell_type": "code",
   "execution_count": 95,
   "metadata": {
    "colab": {
     "base_uri": "https://localhost:8080/"
    },
    "id": "ugHK8MvB12sg",
    "outputId": "792e9dd0-91e7-4fbf-a6d7-faca8a61a60d"
   },
   "outputs": [
    {
     "name": "stderr",
     "output_type": "stream",
     "text": [
      "C:\\anaconda101\\Lib\\site-packages\\keras\\src\\layers\\rnn\\rnn.py:204: UserWarning: Do not pass an `input_shape`/`input_dim` argument to a layer. When using Sequential models, prefer using an `Input(shape)` object as the first layer in the model instead.\n",
      "  super().__init__(**kwargs)\n"
     ]
    }
   ],
   "source": [
    "#LSTM_Model:\n",
    "\n",
    "from keras.models import Sequential\n",
    "from keras.layers import Dense, Dropout,LSTM\n",
    "\n",
    "model= Sequential()\n",
    "model.add(LSTM(units=50, activation= 'relu',return_sequences = True,\n",
    "               input_shape = (x_train.shape[1],1 )))\n",
    "model.add(Dropout(0.2))\n",
    "\n",
    "model.add(LSTM(units=60, activation= 'relu',return_sequences = True ))\n",
    "model.add(Dropout(0.3))\n",
    "\n",
    "model.add(LSTM(units=80, activation= 'relu',return_sequences = True ))\n",
    "model.add(Dropout(0.4))\n",
    "\n",
    "\n",
    "model.add(LSTM(units=120, activation= 'relu' ))\n",
    "model.add(Dropout(0.5))\n",
    "\n",
    "model.add(Dense(units = 1))"
   ]
  },
  {
   "cell_type": "code",
   "execution_count": 97,
   "metadata": {
    "id": "UcVU8YYF12pm"
   },
   "outputs": [
    {
     "data": {
      "text/html": [
       "<pre style=\"white-space:pre;overflow-x:auto;line-height:normal;font-family:Menlo,'DejaVu Sans Mono',consolas,'Courier New',monospace\"><span style=\"font-weight: bold\">Model: \"sequential\"</span>\n",
       "</pre>\n"
      ],
      "text/plain": [
       "\u001b[1mModel: \"sequential\"\u001b[0m\n"
      ]
     },
     "metadata": {},
     "output_type": "display_data"
    },
    {
     "data": {
      "text/html": [
       "<pre style=\"white-space:pre;overflow-x:auto;line-height:normal;font-family:Menlo,'DejaVu Sans Mono',consolas,'Courier New',monospace\">┏━━━━━━━━━━━━━━━━━━━━━━━━━━━━━━━━━━━━━━┳━━━━━━━━━━━━━━━━━━━━━━━━━━━━━┳━━━━━━━━━━━━━━━━━┓\n",
       "┃<span style=\"font-weight: bold\"> Layer (type)                         </span>┃<span style=\"font-weight: bold\"> Output Shape                </span>┃<span style=\"font-weight: bold\">         Param # </span>┃\n",
       "┡━━━━━━━━━━━━━━━━━━━━━━━━━━━━━━━━━━━━━━╇━━━━━━━━━━━━━━━━━━━━━━━━━━━━━╇━━━━━━━━━━━━━━━━━┩\n",
       "│ lstm (<span style=\"color: #0087ff; text-decoration-color: #0087ff\">LSTM</span>)                          │ (<span style=\"color: #00d7ff; text-decoration-color: #00d7ff\">None</span>, <span style=\"color: #00af00; text-decoration-color: #00af00\">100</span>, <span style=\"color: #00af00; text-decoration-color: #00af00\">50</span>)             │          <span style=\"color: #00af00; text-decoration-color: #00af00\">10,400</span> │\n",
       "├──────────────────────────────────────┼─────────────────────────────┼─────────────────┤\n",
       "│ dropout (<span style=\"color: #0087ff; text-decoration-color: #0087ff\">Dropout</span>)                    │ (<span style=\"color: #00d7ff; text-decoration-color: #00d7ff\">None</span>, <span style=\"color: #00af00; text-decoration-color: #00af00\">100</span>, <span style=\"color: #00af00; text-decoration-color: #00af00\">50</span>)             │               <span style=\"color: #00af00; text-decoration-color: #00af00\">0</span> │\n",
       "├──────────────────────────────────────┼─────────────────────────────┼─────────────────┤\n",
       "│ lstm_1 (<span style=\"color: #0087ff; text-decoration-color: #0087ff\">LSTM</span>)                        │ (<span style=\"color: #00d7ff; text-decoration-color: #00d7ff\">None</span>, <span style=\"color: #00af00; text-decoration-color: #00af00\">100</span>, <span style=\"color: #00af00; text-decoration-color: #00af00\">60</span>)             │          <span style=\"color: #00af00; text-decoration-color: #00af00\">26,640</span> │\n",
       "├──────────────────────────────────────┼─────────────────────────────┼─────────────────┤\n",
       "│ dropout_1 (<span style=\"color: #0087ff; text-decoration-color: #0087ff\">Dropout</span>)                  │ (<span style=\"color: #00d7ff; text-decoration-color: #00d7ff\">None</span>, <span style=\"color: #00af00; text-decoration-color: #00af00\">100</span>, <span style=\"color: #00af00; text-decoration-color: #00af00\">60</span>)             │               <span style=\"color: #00af00; text-decoration-color: #00af00\">0</span> │\n",
       "├──────────────────────────────────────┼─────────────────────────────┼─────────────────┤\n",
       "│ lstm_2 (<span style=\"color: #0087ff; text-decoration-color: #0087ff\">LSTM</span>)                        │ (<span style=\"color: #00d7ff; text-decoration-color: #00d7ff\">None</span>, <span style=\"color: #00af00; text-decoration-color: #00af00\">100</span>, <span style=\"color: #00af00; text-decoration-color: #00af00\">80</span>)             │          <span style=\"color: #00af00; text-decoration-color: #00af00\">45,120</span> │\n",
       "├──────────────────────────────────────┼─────────────────────────────┼─────────────────┤\n",
       "│ dropout_2 (<span style=\"color: #0087ff; text-decoration-color: #0087ff\">Dropout</span>)                  │ (<span style=\"color: #00d7ff; text-decoration-color: #00d7ff\">None</span>, <span style=\"color: #00af00; text-decoration-color: #00af00\">100</span>, <span style=\"color: #00af00; text-decoration-color: #00af00\">80</span>)             │               <span style=\"color: #00af00; text-decoration-color: #00af00\">0</span> │\n",
       "├──────────────────────────────────────┼─────────────────────────────┼─────────────────┤\n",
       "│ lstm_3 (<span style=\"color: #0087ff; text-decoration-color: #0087ff\">LSTM</span>)                        │ (<span style=\"color: #00d7ff; text-decoration-color: #00d7ff\">None</span>, <span style=\"color: #00af00; text-decoration-color: #00af00\">120</span>)                 │          <span style=\"color: #00af00; text-decoration-color: #00af00\">96,480</span> │\n",
       "├──────────────────────────────────────┼─────────────────────────────┼─────────────────┤\n",
       "│ dropout_3 (<span style=\"color: #0087ff; text-decoration-color: #0087ff\">Dropout</span>)                  │ (<span style=\"color: #00d7ff; text-decoration-color: #00d7ff\">None</span>, <span style=\"color: #00af00; text-decoration-color: #00af00\">120</span>)                 │               <span style=\"color: #00af00; text-decoration-color: #00af00\">0</span> │\n",
       "├──────────────────────────────────────┼─────────────────────────────┼─────────────────┤\n",
       "│ dense (<span style=\"color: #0087ff; text-decoration-color: #0087ff\">Dense</span>)                        │ (<span style=\"color: #00d7ff; text-decoration-color: #00d7ff\">None</span>, <span style=\"color: #00af00; text-decoration-color: #00af00\">1</span>)                   │             <span style=\"color: #00af00; text-decoration-color: #00af00\">121</span> │\n",
       "└──────────────────────────────────────┴─────────────────────────────┴─────────────────┘\n",
       "</pre>\n"
      ],
      "text/plain": [
       "┏━━━━━━━━━━━━━━━━━━━━━━━━━━━━━━━━━━━━━━┳━━━━━━━━━━━━━━━━━━━━━━━━━━━━━┳━━━━━━━━━━━━━━━━━┓\n",
       "┃\u001b[1m \u001b[0m\u001b[1mLayer (type)                        \u001b[0m\u001b[1m \u001b[0m┃\u001b[1m \u001b[0m\u001b[1mOutput Shape               \u001b[0m\u001b[1m \u001b[0m┃\u001b[1m \u001b[0m\u001b[1m        Param #\u001b[0m\u001b[1m \u001b[0m┃\n",
       "┡━━━━━━━━━━━━━━━━━━━━━━━━━━━━━━━━━━━━━━╇━━━━━━━━━━━━━━━━━━━━━━━━━━━━━╇━━━━━━━━━━━━━━━━━┩\n",
       "│ lstm (\u001b[38;5;33mLSTM\u001b[0m)                          │ (\u001b[38;5;45mNone\u001b[0m, \u001b[38;5;34m100\u001b[0m, \u001b[38;5;34m50\u001b[0m)             │          \u001b[38;5;34m10,400\u001b[0m │\n",
       "├──────────────────────────────────────┼─────────────────────────────┼─────────────────┤\n",
       "│ dropout (\u001b[38;5;33mDropout\u001b[0m)                    │ (\u001b[38;5;45mNone\u001b[0m, \u001b[38;5;34m100\u001b[0m, \u001b[38;5;34m50\u001b[0m)             │               \u001b[38;5;34m0\u001b[0m │\n",
       "├──────────────────────────────────────┼─────────────────────────────┼─────────────────┤\n",
       "│ lstm_1 (\u001b[38;5;33mLSTM\u001b[0m)                        │ (\u001b[38;5;45mNone\u001b[0m, \u001b[38;5;34m100\u001b[0m, \u001b[38;5;34m60\u001b[0m)             │          \u001b[38;5;34m26,640\u001b[0m │\n",
       "├──────────────────────────────────────┼─────────────────────────────┼─────────────────┤\n",
       "│ dropout_1 (\u001b[38;5;33mDropout\u001b[0m)                  │ (\u001b[38;5;45mNone\u001b[0m, \u001b[38;5;34m100\u001b[0m, \u001b[38;5;34m60\u001b[0m)             │               \u001b[38;5;34m0\u001b[0m │\n",
       "├──────────────────────────────────────┼─────────────────────────────┼─────────────────┤\n",
       "│ lstm_2 (\u001b[38;5;33mLSTM\u001b[0m)                        │ (\u001b[38;5;45mNone\u001b[0m, \u001b[38;5;34m100\u001b[0m, \u001b[38;5;34m80\u001b[0m)             │          \u001b[38;5;34m45,120\u001b[0m │\n",
       "├──────────────────────────────────────┼─────────────────────────────┼─────────────────┤\n",
       "│ dropout_2 (\u001b[38;5;33mDropout\u001b[0m)                  │ (\u001b[38;5;45mNone\u001b[0m, \u001b[38;5;34m100\u001b[0m, \u001b[38;5;34m80\u001b[0m)             │               \u001b[38;5;34m0\u001b[0m │\n",
       "├──────────────────────────────────────┼─────────────────────────────┼─────────────────┤\n",
       "│ lstm_3 (\u001b[38;5;33mLSTM\u001b[0m)                        │ (\u001b[38;5;45mNone\u001b[0m, \u001b[38;5;34m120\u001b[0m)                 │          \u001b[38;5;34m96,480\u001b[0m │\n",
       "├──────────────────────────────────────┼─────────────────────────────┼─────────────────┤\n",
       "│ dropout_3 (\u001b[38;5;33mDropout\u001b[0m)                  │ (\u001b[38;5;45mNone\u001b[0m, \u001b[38;5;34m120\u001b[0m)                 │               \u001b[38;5;34m0\u001b[0m │\n",
       "├──────────────────────────────────────┼─────────────────────────────┼─────────────────┤\n",
       "│ dense (\u001b[38;5;33mDense\u001b[0m)                        │ (\u001b[38;5;45mNone\u001b[0m, \u001b[38;5;34m1\u001b[0m)                   │             \u001b[38;5;34m121\u001b[0m │\n",
       "└──────────────────────────────────────┴─────────────────────────────┴─────────────────┘\n"
      ]
     },
     "metadata": {},
     "output_type": "display_data"
    },
    {
     "data": {
      "text/html": [
       "<pre style=\"white-space:pre;overflow-x:auto;line-height:normal;font-family:Menlo,'DejaVu Sans Mono',consolas,'Courier New',monospace\"><span style=\"font-weight: bold\"> Total params: </span><span style=\"color: #00af00; text-decoration-color: #00af00\">178,761</span> (698.29 KB)\n",
       "</pre>\n"
      ],
      "text/plain": [
       "\u001b[1m Total params: \u001b[0m\u001b[38;5;34m178,761\u001b[0m (698.29 KB)\n"
      ]
     },
     "metadata": {},
     "output_type": "display_data"
    },
    {
     "data": {
      "text/html": [
       "<pre style=\"white-space:pre;overflow-x:auto;line-height:normal;font-family:Menlo,'DejaVu Sans Mono',consolas,'Courier New',monospace\"><span style=\"font-weight: bold\"> Trainable params: </span><span style=\"color: #00af00; text-decoration-color: #00af00\">178,761</span> (698.29 KB)\n",
       "</pre>\n"
      ],
      "text/plain": [
       "\u001b[1m Trainable params: \u001b[0m\u001b[38;5;34m178,761\u001b[0m (698.29 KB)\n"
      ]
     },
     "metadata": {},
     "output_type": "display_data"
    },
    {
     "data": {
      "text/html": [
       "<pre style=\"white-space:pre;overflow-x:auto;line-height:normal;font-family:Menlo,'DejaVu Sans Mono',consolas,'Courier New',monospace\"><span style=\"font-weight: bold\"> Non-trainable params: </span><span style=\"color: #00af00; text-decoration-color: #00af00\">0</span> (0.00 B)\n",
       "</pre>\n"
      ],
      "text/plain": [
       "\u001b[1m Non-trainable params: \u001b[0m\u001b[38;5;34m0\u001b[0m (0.00 B)\n"
      ]
     },
     "metadata": {},
     "output_type": "display_data"
    }
   ],
   "source": [
    "model.summary()"
   ]
  },
  {
   "cell_type": "code",
   "execution_count": 99,
   "metadata": {
    "id": "AXArO50P12m0"
   },
   "outputs": [],
   "source": [
    "#Compile the model\n",
    "model.compile(optimizer='adam', loss='mean_squared_error')"
   ]
  },
  {
   "cell_type": "code",
   "execution_count": 101,
   "metadata": {
    "colab": {
     "base_uri": "https://localhost:8080/"
    },
    "collapsed": true,
    "id": "bS55c5NB12jw",
    "jupyter": {
     "outputs_hidden": true
    },
    "outputId": "43098be3-6e52-408e-8c67-1084213aeacc",
    "scrolled": true
   },
   "outputs": [
    {
     "name": "stdout",
     "output_type": "stream",
     "text": [
      "Epoch 1/50\n",
      "\u001b[1m120/120\u001b[0m \u001b[32m━━━━━━━━━━━━━━━━━━━━\u001b[0m\u001b[37m\u001b[0m \u001b[1m16s\u001b[0m 93ms/step - loss: 0.0464\n",
      "Epoch 2/50\n",
      "\u001b[1m120/120\u001b[0m \u001b[32m━━━━━━━━━━━━━━━━━━━━\u001b[0m\u001b[37m\u001b[0m \u001b[1m11s\u001b[0m 92ms/step - loss: 0.0046\n",
      "Epoch 3/50\n",
      "\u001b[1m120/120\u001b[0m \u001b[32m━━━━━━━━━━━━━━━━━━━━\u001b[0m\u001b[37m\u001b[0m \u001b[1m11s\u001b[0m 91ms/step - loss: 0.0046\n",
      "Epoch 4/50\n",
      "\u001b[1m120/120\u001b[0m \u001b[32m━━━━━━━━━━━━━━━━━━━━\u001b[0m\u001b[37m\u001b[0m \u001b[1m11s\u001b[0m 94ms/step - loss: 0.0036\n",
      "Epoch 5/50\n",
      "\u001b[1m120/120\u001b[0m \u001b[32m━━━━━━━━━━━━━━━━━━━━\u001b[0m\u001b[37m\u001b[0m \u001b[1m11s\u001b[0m 90ms/step - loss: 0.0036\n",
      "Epoch 6/50\n",
      "\u001b[1m120/120\u001b[0m \u001b[32m━━━━━━━━━━━━━━━━━━━━\u001b[0m\u001b[37m\u001b[0m \u001b[1m11s\u001b[0m 93ms/step - loss: 0.0029\n",
      "Epoch 7/50\n",
      "\u001b[1m120/120\u001b[0m \u001b[32m━━━━━━━━━━━━━━━━━━━━\u001b[0m\u001b[37m\u001b[0m \u001b[1m11s\u001b[0m 93ms/step - loss: 0.0033\n",
      "Epoch 8/50\n",
      "\u001b[1m120/120\u001b[0m \u001b[32m━━━━━━━━━━━━━━━━━━━━\u001b[0m\u001b[37m\u001b[0m \u001b[1m12s\u001b[0m 97ms/step - loss: 0.0033\n",
      "Epoch 9/50\n",
      "\u001b[1m120/120\u001b[0m \u001b[32m━━━━━━━━━━━━━━━━━━━━\u001b[0m\u001b[37m\u001b[0m \u001b[1m12s\u001b[0m 97ms/step - loss: 0.0029\n",
      "Epoch 10/50\n",
      "\u001b[1m120/120\u001b[0m \u001b[32m━━━━━━━━━━━━━━━━━━━━\u001b[0m\u001b[37m\u001b[0m \u001b[1m12s\u001b[0m 99ms/step - loss: 0.0027\n",
      "Epoch 11/50\n",
      "\u001b[1m120/120\u001b[0m \u001b[32m━━━━━━━━━━━━━━━━━━━━\u001b[0m\u001b[37m\u001b[0m \u001b[1m12s\u001b[0m 101ms/step - loss: 0.0026\n",
      "Epoch 12/50\n",
      "\u001b[1m120/120\u001b[0m \u001b[32m━━━━━━━━━━━━━━━━━━━━\u001b[0m\u001b[37m\u001b[0m \u001b[1m12s\u001b[0m 98ms/step - loss: 0.0022\n",
      "Epoch 13/50\n",
      "\u001b[1m120/120\u001b[0m \u001b[32m━━━━━━━━━━━━━━━━━━━━\u001b[0m\u001b[37m\u001b[0m \u001b[1m12s\u001b[0m 103ms/step - loss: 0.0024\n",
      "Epoch 14/50\n",
      "\u001b[1m120/120\u001b[0m \u001b[32m━━━━━━━━━━━━━━━━━━━━\u001b[0m\u001b[37m\u001b[0m \u001b[1m13s\u001b[0m 105ms/step - loss: 0.0024\n",
      "Epoch 15/50\n",
      "\u001b[1m120/120\u001b[0m \u001b[32m━━━━━━━━━━━━━━━━━━━━\u001b[0m\u001b[37m\u001b[0m \u001b[1m12s\u001b[0m 103ms/step - loss: 0.0025\n",
      "Epoch 16/50\n",
      "\u001b[1m120/120\u001b[0m \u001b[32m━━━━━━━━━━━━━━━━━━━━\u001b[0m\u001b[37m\u001b[0m \u001b[1m12s\u001b[0m 104ms/step - loss: 0.0021\n",
      "Epoch 17/50\n",
      "\u001b[1m120/120\u001b[0m \u001b[32m━━━━━━━━━━━━━━━━━━━━\u001b[0m\u001b[37m\u001b[0m \u001b[1m13s\u001b[0m 106ms/step - loss: 0.0024\n",
      "Epoch 18/50\n",
      "\u001b[1m120/120\u001b[0m \u001b[32m━━━━━━━━━━━━━━━━━━━━\u001b[0m\u001b[37m\u001b[0m \u001b[1m13s\u001b[0m 105ms/step - loss: 0.0021\n",
      "Epoch 19/50\n",
      "\u001b[1m120/120\u001b[0m \u001b[32m━━━━━━━━━━━━━━━━━━━━\u001b[0m\u001b[37m\u001b[0m \u001b[1m13s\u001b[0m 106ms/step - loss: 0.0020\n",
      "Epoch 20/50\n",
      "\u001b[1m120/120\u001b[0m \u001b[32m━━━━━━━━━━━━━━━━━━━━\u001b[0m\u001b[37m\u001b[0m \u001b[1m13s\u001b[0m 108ms/step - loss: 0.0020\n",
      "Epoch 21/50\n",
      "\u001b[1m120/120\u001b[0m \u001b[32m━━━━━━━━━━━━━━━━━━━━\u001b[0m\u001b[37m\u001b[0m \u001b[1m14s\u001b[0m 114ms/step - loss: 0.0022\n",
      "Epoch 22/50\n",
      "\u001b[1m120/120\u001b[0m \u001b[32m━━━━━━━━━━━━━━━━━━━━\u001b[0m\u001b[37m\u001b[0m \u001b[1m13s\u001b[0m 111ms/step - loss: 0.0019\n",
      "Epoch 23/50\n",
      "\u001b[1m120/120\u001b[0m \u001b[32m━━━━━━━━━━━━━━━━━━━━\u001b[0m\u001b[37m\u001b[0m \u001b[1m14s\u001b[0m 113ms/step - loss: 0.0020\n",
      "Epoch 24/50\n",
      "\u001b[1m120/120\u001b[0m \u001b[32m━━━━━━━━━━━━━━━━━━━━\u001b[0m\u001b[37m\u001b[0m \u001b[1m13s\u001b[0m 106ms/step - loss: 0.0019\n",
      "Epoch 25/50\n",
      "\u001b[1m120/120\u001b[0m \u001b[32m━━━━━━━━━━━━━━━━━━━━\u001b[0m\u001b[37m\u001b[0m \u001b[1m12s\u001b[0m 101ms/step - loss: 0.0020\n",
      "Epoch 26/50\n",
      "\u001b[1m120/120\u001b[0m \u001b[32m━━━━━━━━━━━━━━━━━━━━\u001b[0m\u001b[37m\u001b[0m \u001b[1m12s\u001b[0m 96ms/step - loss: 0.0019\n",
      "Epoch 27/50\n",
      "\u001b[1m120/120\u001b[0m \u001b[32m━━━━━━━━━━━━━━━━━━━━\u001b[0m\u001b[37m\u001b[0m \u001b[1m12s\u001b[0m 97ms/step - loss: 0.0018\n",
      "Epoch 28/50\n",
      "\u001b[1m120/120\u001b[0m \u001b[32m━━━━━━━━━━━━━━━━━━━━\u001b[0m\u001b[37m\u001b[0m \u001b[1m12s\u001b[0m 97ms/step - loss: 0.0017\n",
      "Epoch 29/50\n",
      "\u001b[1m120/120\u001b[0m \u001b[32m━━━━━━━━━━━━━━━━━━━━\u001b[0m\u001b[37m\u001b[0m \u001b[1m12s\u001b[0m 97ms/step - loss: 0.0022\n",
      "Epoch 30/50\n",
      "\u001b[1m120/120\u001b[0m \u001b[32m━━━━━━━━━━━━━━━━━━━━\u001b[0m\u001b[37m\u001b[0m \u001b[1m12s\u001b[0m 97ms/step - loss: 0.0017\n",
      "Epoch 31/50\n",
      "\u001b[1m120/120\u001b[0m \u001b[32m━━━━━━━━━━━━━━━━━━━━\u001b[0m\u001b[37m\u001b[0m \u001b[1m12s\u001b[0m 98ms/step - loss: 0.0019\n",
      "Epoch 32/50\n",
      "\u001b[1m120/120\u001b[0m \u001b[32m━━━━━━━━━━━━━━━━━━━━\u001b[0m\u001b[37m\u001b[0m \u001b[1m12s\u001b[0m 100ms/step - loss: 0.0017\n",
      "Epoch 33/50\n",
      "\u001b[1m120/120\u001b[0m \u001b[32m━━━━━━━━━━━━━━━━━━━━\u001b[0m\u001b[37m\u001b[0m \u001b[1m13s\u001b[0m 104ms/step - loss: 0.0020\n",
      "Epoch 34/50\n",
      "\u001b[1m120/120\u001b[0m \u001b[32m━━━━━━━━━━━━━━━━━━━━\u001b[0m\u001b[37m\u001b[0m \u001b[1m12s\u001b[0m 101ms/step - loss: 0.0020\n",
      "Epoch 35/50\n",
      "\u001b[1m120/120\u001b[0m \u001b[32m━━━━━━━━━━━━━━━━━━━━\u001b[0m\u001b[37m\u001b[0m \u001b[1m12s\u001b[0m 98ms/step - loss: 0.0018\n",
      "Epoch 36/50\n",
      "\u001b[1m120/120\u001b[0m \u001b[32m━━━━━━━━━━━━━━━━━━━━\u001b[0m\u001b[37m\u001b[0m \u001b[1m12s\u001b[0m 101ms/step - loss: 0.0018\n",
      "Epoch 37/50\n",
      "\u001b[1m120/120\u001b[0m \u001b[32m━━━━━━━━━━━━━━━━━━━━\u001b[0m\u001b[37m\u001b[0m \u001b[1m12s\u001b[0m 96ms/step - loss: 0.0018\n",
      "Epoch 38/50\n",
      "\u001b[1m120/120\u001b[0m \u001b[32m━━━━━━━━━━━━━━━━━━━━\u001b[0m\u001b[37m\u001b[0m \u001b[1m13s\u001b[0m 105ms/step - loss: 0.0019\n",
      "Epoch 39/50\n",
      "\u001b[1m120/120\u001b[0m \u001b[32m━━━━━━━━━━━━━━━━━━━━\u001b[0m\u001b[37m\u001b[0m \u001b[1m12s\u001b[0m 98ms/step - loss: 0.0018\n",
      "Epoch 40/50\n",
      "\u001b[1m120/120\u001b[0m \u001b[32m━━━━━━━━━━━━━━━━━━━━\u001b[0m\u001b[37m\u001b[0m \u001b[1m12s\u001b[0m 99ms/step - loss: 0.0019\n",
      "Epoch 41/50\n",
      "\u001b[1m120/120\u001b[0m \u001b[32m━━━━━━━━━━━━━━━━━━━━\u001b[0m\u001b[37m\u001b[0m \u001b[1m12s\u001b[0m 97ms/step - loss: 0.0018\n",
      "Epoch 42/50\n",
      "\u001b[1m120/120\u001b[0m \u001b[32m━━━━━━━━━━━━━━━━━━━━\u001b[0m\u001b[37m\u001b[0m \u001b[1m12s\u001b[0m 102ms/step - loss: 0.0019\n",
      "Epoch 43/50\n",
      "\u001b[1m120/120\u001b[0m \u001b[32m━━━━━━━━━━━━━━━━━━━━\u001b[0m\u001b[37m\u001b[0m \u001b[1m12s\u001b[0m 104ms/step - loss: 0.0020\n",
      "Epoch 44/50\n",
      "\u001b[1m120/120\u001b[0m \u001b[32m━━━━━━━━━━━━━━━━━━━━\u001b[0m\u001b[37m\u001b[0m \u001b[1m12s\u001b[0m 102ms/step - loss: 0.0017\n",
      "Epoch 45/50\n",
      "\u001b[1m120/120\u001b[0m \u001b[32m━━━━━━━━━━━━━━━━━━━━\u001b[0m\u001b[37m\u001b[0m \u001b[1m13s\u001b[0m 108ms/step - loss: 0.0018\n",
      "Epoch 46/50\n",
      "\u001b[1m120/120\u001b[0m \u001b[32m━━━━━━━━━━━━━━━━━━━━\u001b[0m\u001b[37m\u001b[0m \u001b[1m13s\u001b[0m 104ms/step - loss: 0.0018\n",
      "Epoch 47/50\n",
      "\u001b[1m120/120\u001b[0m \u001b[32m━━━━━━━━━━━━━━━━━━━━\u001b[0m\u001b[37m\u001b[0m \u001b[1m12s\u001b[0m 101ms/step - loss: 0.0019\n",
      "Epoch 48/50\n",
      "\u001b[1m120/120\u001b[0m \u001b[32m━━━━━━━━━━━━━━━━━━━━\u001b[0m\u001b[37m\u001b[0m \u001b[1m12s\u001b[0m 102ms/step - loss: 0.0019\n",
      "Epoch 49/50\n",
      "\u001b[1m120/120\u001b[0m \u001b[32m━━━━━━━━━━━━━━━━━━━━\u001b[0m\u001b[37m\u001b[0m \u001b[1m19s\u001b[0m 160ms/step - loss: 0.0018\n",
      "Epoch 50/50\n",
      "\u001b[1m120/120\u001b[0m \u001b[32m━━━━━━━━━━━━━━━━━━━━\u001b[0m\u001b[37m\u001b[0m \u001b[1m33s\u001b[0m 278ms/step - loss: 0.0018\n"
     ]
    },
    {
     "data": {
      "text/plain": [
       "<keras.src.callbacks.history.History at 0x22a0693b0e0>"
      ]
     },
     "execution_count": 101,
     "metadata": {},
     "output_type": "execute_result"
    }
   ],
   "source": [
    "#Train the model\n",
    "model.fit(x_train, y_train, epochs = 50)"
   ]
  },
  {
   "cell_type": "code",
   "execution_count": 103,
   "metadata": {},
   "outputs": [],
   "source": [
    "# Save the model\n",
    "from keras.models import save_model\n",
    "\n",
    "save_model(model, 'LSTM_model.keras')"
   ]
  },
  {
   "cell_type": "code",
   "execution_count": null,
   "metadata": {},
   "outputs": [],
   "source": []
  },
  {
   "cell_type": "code",
   "execution_count": 105,
   "metadata": {
    "colab": {
     "base_uri": "https://localhost:8080/",
     "height": 423
    },
    "id": "j_UGPpTB12eL",
    "outputId": "f8a0c24a-2e8b-4899-fdaf-178521fdd2ce"
   },
   "outputs": [
    {
     "data": {
      "text/html": [
       "<div>\n",
       "<style scoped>\n",
       "    .dataframe tbody tr th:only-of-type {\n",
       "        vertical-align: middle;\n",
       "    }\n",
       "\n",
       "    .dataframe tbody tr th {\n",
       "        vertical-align: top;\n",
       "    }\n",
       "\n",
       "    .dataframe thead th {\n",
       "        text-align: right;\n",
       "    }\n",
       "</style>\n",
       "<table border=\"1\" class=\"dataframe\">\n",
       "  <thead>\n",
       "    <tr style=\"text-align: right;\">\n",
       "      <th></th>\n",
       "      <th>Close</th>\n",
       "    </tr>\n",
       "  </thead>\n",
       "  <tbody>\n",
       "    <tr>\n",
       "      <th>3819</th>\n",
       "      <td>1140.364258</td>\n",
       "    </tr>\n",
       "    <tr>\n",
       "      <th>3820</th>\n",
       "      <td>1147.458008</td>\n",
       "    </tr>\n",
       "    <tr>\n",
       "      <th>3821</th>\n",
       "      <td>1116.636963</td>\n",
       "    </tr>\n",
       "    <tr>\n",
       "      <th>3822</th>\n",
       "      <td>1111.311157</td>\n",
       "    </tr>\n",
       "    <tr>\n",
       "      <th>3823</th>\n",
       "      <td>1126.547119</td>\n",
       "    </tr>\n",
       "    <tr>\n",
       "      <th>...</th>\n",
       "      <td>...</td>\n",
       "    </tr>\n",
       "    <tr>\n",
       "      <th>3914</th>\n",
       "      <td>1523.645874</td>\n",
       "    </tr>\n",
       "    <tr>\n",
       "      <th>3915</th>\n",
       "      <td>1523.164429</td>\n",
       "    </tr>\n",
       "    <tr>\n",
       "      <th>3916</th>\n",
       "      <td>1496.995728</td>\n",
       "    </tr>\n",
       "    <tr>\n",
       "      <th>3917</th>\n",
       "      <td>1505.857300</td>\n",
       "    </tr>\n",
       "    <tr>\n",
       "      <th>3918</th>\n",
       "      <td>1526.906006</td>\n",
       "    </tr>\n",
       "  </tbody>\n",
       "</table>\n",
       "<p>100 rows × 1 columns</p>\n",
       "</div>"
      ],
      "text/plain": [
       "            Close\n",
       "3819  1140.364258\n",
       "3820  1147.458008\n",
       "3821  1116.636963\n",
       "3822  1111.311157\n",
       "3823  1126.547119\n",
       "...           ...\n",
       "3914  1523.645874\n",
       "3915  1523.164429\n",
       "3916  1496.995728\n",
       "3917  1505.857300\n",
       "3918  1526.906006\n",
       "\n",
       "[100 rows x 1 columns]"
      ]
     },
     "execution_count": 105,
     "metadata": {},
     "output_type": "execute_result"
    }
   ],
   "source": [
    "data_training.tail(100)"
   ]
  },
  {
   "cell_type": "code",
   "execution_count": 107,
   "metadata": {
    "colab": {
     "base_uri": "https://localhost:8080/",
     "height": 206
    },
    "id": "YpP4sbc-12bS",
    "outputId": "4a0bb656-caf3-4cc8-9885-db6032ce6048"
   },
   "outputs": [
    {
     "data": {
      "text/html": [
       "<div>\n",
       "<style scoped>\n",
       "    .dataframe tbody tr th:only-of-type {\n",
       "        vertical-align: middle;\n",
       "    }\n",
       "\n",
       "    .dataframe tbody tr th {\n",
       "        vertical-align: top;\n",
       "    }\n",
       "\n",
       "    .dataframe thead th {\n",
       "        text-align: right;\n",
       "    }\n",
       "</style>\n",
       "<table border=\"1\" class=\"dataframe\">\n",
       "  <thead>\n",
       "    <tr style=\"text-align: right;\">\n",
       "      <th></th>\n",
       "      <th>Close</th>\n",
       "    </tr>\n",
       "  </thead>\n",
       "  <tbody>\n",
       "    <tr>\n",
       "      <th>3919</th>\n",
       "      <td>1510.255127</td>\n",
       "    </tr>\n",
       "    <tr>\n",
       "      <th>3920</th>\n",
       "      <td>1512.749878</td>\n",
       "    </tr>\n",
       "    <tr>\n",
       "      <th>3921</th>\n",
       "      <td>1502.509766</td>\n",
       "    </tr>\n",
       "    <tr>\n",
       "      <th>3922</th>\n",
       "      <td>1523.886475</td>\n",
       "    </tr>\n",
       "    <tr>\n",
       "      <th>3923</th>\n",
       "      <td>1528.918823</td>\n",
       "    </tr>\n",
       "  </tbody>\n",
       "</table>\n",
       "</div>"
      ],
      "text/plain": [
       "            Close\n",
       "3919  1510.255127\n",
       "3920  1512.749878\n",
       "3921  1502.509766\n",
       "3922  1523.886475\n",
       "3923  1528.918823"
      ]
     },
     "execution_count": 107,
     "metadata": {},
     "output_type": "execute_result"
    }
   ],
   "source": [
    "data_testing.head()"
   ]
  },
  {
   "cell_type": "code",
   "execution_count": 109,
   "metadata": {
    "id": "IxieneXy7OvK"
   },
   "outputs": [],
   "source": [
    "past_100_days = data_training.tail(100)"
   ]
  },
  {
   "cell_type": "code",
   "execution_count": 111,
   "metadata": {
    "id": "aUaJ-NH87OyO"
   },
   "outputs": [],
   "source": [
    "final_df = pd.concat([past_100_days, data_testing], ignore_index=True)"
   ]
  },
  {
   "cell_type": "code",
   "execution_count": 113,
   "metadata": {
    "colab": {
     "base_uri": "https://localhost:8080/",
     "height": 206
    },
    "id": "87aNAK4u7O15",
    "outputId": "0f1fd4d5-e1e8-4252-bfb7-81cc5c142545"
   },
   "outputs": [
    {
     "data": {
      "text/html": [
       "<div>\n",
       "<style scoped>\n",
       "    .dataframe tbody tr th:only-of-type {\n",
       "        vertical-align: middle;\n",
       "    }\n",
       "\n",
       "    .dataframe tbody tr th {\n",
       "        vertical-align: top;\n",
       "    }\n",
       "\n",
       "    .dataframe thead th {\n",
       "        text-align: right;\n",
       "    }\n",
       "</style>\n",
       "<table border=\"1\" class=\"dataframe\">\n",
       "  <thead>\n",
       "    <tr style=\"text-align: right;\">\n",
       "      <th></th>\n",
       "      <th>Close</th>\n",
       "    </tr>\n",
       "  </thead>\n",
       "  <tbody>\n",
       "    <tr>\n",
       "      <th>0</th>\n",
       "      <td>1140.364258</td>\n",
       "    </tr>\n",
       "    <tr>\n",
       "      <th>1</th>\n",
       "      <td>1147.458008</td>\n",
       "    </tr>\n",
       "    <tr>\n",
       "      <th>2</th>\n",
       "      <td>1116.636963</td>\n",
       "    </tr>\n",
       "    <tr>\n",
       "      <th>3</th>\n",
       "      <td>1111.311157</td>\n",
       "    </tr>\n",
       "    <tr>\n",
       "      <th>4</th>\n",
       "      <td>1126.547119</td>\n",
       "    </tr>\n",
       "  </tbody>\n",
       "</table>\n",
       "</div>"
      ],
      "text/plain": [
       "         Close\n",
       "0  1140.364258\n",
       "1  1147.458008\n",
       "2  1116.636963\n",
       "3  1111.311157\n",
       "4  1126.547119"
      ]
     },
     "execution_count": 113,
     "metadata": {},
     "output_type": "execute_result"
    }
   ],
   "source": [
    "final_df.head()"
   ]
  },
  {
   "cell_type": "code",
   "execution_count": 115,
   "metadata": {
    "colab": {
     "base_uri": "https://localhost:8080/"
    },
    "id": "hKxa-Mru7O4_",
    "outputId": "52eaa4aa-6763-44ab-adb0-1eed39d59125"
   },
   "outputs": [
    {
     "data": {
      "text/plain": [
       "array([[0.00864655],\n",
       "       [0.01075774],\n",
       "       [0.00158502],\n",
       "       ...,\n",
       "       [0.79601963],\n",
       "       [0.76316329],\n",
       "       [0.74945824]])"
      ]
     },
     "execution_count": 115,
     "metadata": {},
     "output_type": "execute_result"
    }
   ],
   "source": [
    "input_data= scaler.fit_transform(final_df)\n",
    "input_data"
   ]
  },
  {
   "cell_type": "code",
   "execution_count": 117,
   "metadata": {
    "colab": {
     "base_uri": "https://localhost:8080/"
    },
    "id": "iAv2KP_i7O8J",
    "outputId": "d27987ea-150a-4cb6-e853-70253ce254e5"
   },
   "outputs": [
    {
     "data": {
      "text/plain": [
       "(1781, 1)"
      ]
     },
     "execution_count": 117,
     "metadata": {},
     "output_type": "execute_result"
    }
   ],
   "source": [
    "input_data.shape"
   ]
  },
  {
   "cell_type": "code",
   "execution_count": 119,
   "metadata": {
    "id": "wlBZlIFD7O-r"
   },
   "outputs": [],
   "source": [
    "x_test = []\n",
    "y_test = []\n",
    "\n",
    "for i in range(100, input_data.shape[0]):\n",
    "    x_test.append(input_data[i-100: i])\n",
    "    y_test.append(input_data[i, 0])"
   ]
  },
  {
   "cell_type": "code",
   "execution_count": 121,
   "metadata": {
    "colab": {
     "base_uri": "https://localhost:8080/"
    },
    "id": "nFPTMLb97PCB",
    "outputId": "def385e9-41b0-48f7-c3f3-b78f9fee691e"
   },
   "outputs": [
    {
     "name": "stdout",
     "output_type": "stream",
     "text": [
      "(1681, 100, 1)\n",
      "(1681,)\n"
     ]
    }
   ],
   "source": [
    "x_test , y_test = np.array(x_test), np.array(y_test)\n",
    "print(x_test.shape)\n",
    "print(y_test.shape)"
   ]
  },
  {
   "cell_type": "code",
   "execution_count": 123,
   "metadata": {
    "colab": {
     "base_uri": "https://localhost:8080/"
    },
    "id": "4wlH1SI77PE_",
    "outputId": "0f8efbec-9ad8-48c7-c6c8-d7ec3e1dd6bc"
   },
   "outputs": [
    {
     "name": "stdout",
     "output_type": "stream",
     "text": [
      "\u001b[1m53/53\u001b[0m \u001b[32m━━━━━━━━━━━━━━━━━━━━\u001b[0m\u001b[37m\u001b[0m \u001b[1m7s\u001b[0m 106ms/step\n"
     ]
    }
   ],
   "source": [
    "#Make Predictions\n",
    "y_predicted = model.predict(x_test)"
   ]
  },
  {
   "cell_type": "code",
   "execution_count": 125,
   "metadata": {
    "colab": {
     "base_uri": "https://localhost:8080/"
    },
    "id": "VkpgBOVP7PIf",
    "outputId": "1087ffc0-0d12-47cd-d0f2-28ccc5bf1dab"
   },
   "outputs": [
    {
     "data": {
      "text/plain": [
       "array([[0.15480754],\n",
       "       [0.15748027],\n",
       "       [0.15998206],\n",
       "       ...,\n",
       "       [0.83405966],\n",
       "       [0.8273317 ],\n",
       "       [0.82019234]], dtype=float32)"
      ]
     },
     "execution_count": 125,
     "metadata": {},
     "output_type": "execute_result"
    }
   ],
   "source": [
    "y_predicted"
   ]
  },
  {
   "cell_type": "code",
   "execution_count": 127,
   "metadata": {
    "colab": {
     "base_uri": "https://localhost:8080/"
    },
    "id": "CLbWbaM-7PNn",
    "outputId": "fa842d0b-056c-4f7f-d423-5cdfc147409d"
   },
   "outputs": [
    {
     "data": {
      "text/plain": [
       "(1681, 1)"
      ]
     },
     "execution_count": 127,
     "metadata": {},
     "output_type": "execute_result"
    }
   ],
   "source": [
    "y_predicted.shape"
   ]
  },
  {
   "cell_type": "code",
   "execution_count": 129,
   "metadata": {
    "id": "HTKYMBQNeKYW"
   },
   "outputs": [],
   "source": [
    "# Reshape y_predicted and y_test to 2D arrays\n",
    "y_predicted_reshaped = y_predicted.reshape(-1, 1)\n",
    "y_test_reshaped = y_test.reshape(-1, 1)\n"
   ]
  },
  {
   "cell_type": "code",
   "execution_count": 131,
   "metadata": {
    "id": "z0WpxDQheKU5"
   },
   "outputs": [],
   "source": [
    "# Inverse transform the predictions and actual values\n",
    "inv_predictions = scaler.inverse_transform(y_predicted_reshaped)\n",
    "inv_y_test = scaler.inverse_transform(y_test_reshaped)\n"
   ]
  },
  {
   "cell_type": "code",
   "execution_count": 133,
   "metadata": {
    "colab": {
     "base_uri": "https://localhost:8080/"
    },
    "id": "c1eNqGNbeKR8",
    "outputId": "5df031d0-d16f-4c80-dd76-096c368ee745"
   },
   "outputs": [
    {
     "name": "stdout",
     "output_type": "stream",
     "text": [
      "Inverse Transformed Predictions: [[1631.4767]\n",
      " [1640.4573]\n",
      " [1648.8635]\n",
      " [1656.6422]\n",
      " [1663.7825]]\n"
     ]
    }
   ],
   "source": [
    "print(\"Inverse Transformed Predictions:\", inv_predictions[:5])"
   ]
  },
  {
   "cell_type": "code",
   "execution_count": 135,
   "metadata": {
    "colab": {
     "base_uri": "https://localhost:8080/"
    },
    "id": "OtjOsoGYeKO3",
    "outputId": "d8ffda56-a256-4114-a90c-467e8196ca8a"
   },
   "outputs": [
    {
     "name": "stdout",
     "output_type": "stream",
     "text": [
      "Inverse Transformed y_test: [[1510.25512695]\n",
      " [1512.74987793]\n",
      " [1502.50976562]\n",
      " [1523.88647461]\n",
      " [1528.91882324]]\n"
     ]
    }
   ],
   "source": [
    "print(\"Inverse Transformed y_test:\", inv_y_test[:5])"
   ]
  },
  {
   "cell_type": "code",
   "execution_count": 137,
   "metadata": {
    "colab": {
     "base_uri": "https://localhost:8080/"
    },
    "id": "jd80CJNs77Fi",
    "outputId": "5912e946-8754-44cb-88e1-ab325a863ac3"
   },
   "outputs": [
    {
     "data": {
      "text/plain": [
       "array([0.00029761])"
      ]
     },
     "execution_count": 137,
     "metadata": {},
     "output_type": "execute_result"
    }
   ],
   "source": [
    "scaler.scale_"
   ]
  },
  {
   "cell_type": "code",
   "execution_count": 141,
   "metadata": {
    "id": "nDMCYhTd77IG"
   },
   "outputs": [],
   "source": [
    "scale_factor = 0.00029761\n",
    "y_predicted = y_predicted * scale_factor\n",
    "y_test = y_test * scale_factor"
   ]
  },
  {
   "cell_type": "code",
   "execution_count": null,
   "metadata": {
    "id": "B5sdQQG677K6"
   },
   "outputs": [],
   "source": []
  },
  {
   "cell_type": "code",
   "execution_count": 145,
   "metadata": {
    "colab": {
     "base_uri": "https://localhost:8080/"
    },
    "id": "0jAt5DIJ-lIz",
    "outputId": "9bbc45bb-8659-4b9a-a7dd-e56e30af0f5e"
   },
   "outputs": [
    {
     "name": "stdout",
     "output_type": "stream",
     "text": [
      "Accuracy of LSTM model:\n",
      "Mean Absolute Error (MAE): 9.60908794167287e-06\n",
      "Mean Squared Error (MSE): 1.452359523912857e-10\n",
      "Root Mean Squared Error (RMSE): 1.2051387986090469e-05\n",
      "R-squared (R²) Score: 0.9726852819244866\n"
     ]
    }
   ],
   "source": [
    "# Regression accuracy metrics:\n",
    "from sklearn.metrics import mean_absolute_error, mean_squared_error, r2_score\n",
    "print('Accuracy of LSTM model:')\n",
    "\n",
    "# Calculate Mean Absolute Error (MAE):\n",
    "mae = mean_absolute_error(y_test, y_predicted)\n",
    "print(f\"Mean Absolute Error (MAE): {mae}\")\n",
    "\n",
    "# Calculate Mean Squared Error (MSE):\n",
    "mse = mean_squared_error(y_test, y_predicted)\n",
    "print(f\"Mean Squared Error (MSE): {mse}\")\n",
    "\n",
    "# Calculate Root Mean Squared Error (RMSE):\n",
    "rmse = np.sqrt(mse)\n",
    "print(f\"Root Mean Squared Error (RMSE): {rmse}\")\n",
    "\n",
    "# Calculate (R-squared) score  R² :\n",
    "r2 = r2_score(y_test, y_predicted)\n",
    "print(f\"R-squared (R²) Score: {r2}\")"
   ]
  },
  {
   "cell_type": "code",
   "execution_count": 147,
   "metadata": {
    "colab": {
     "base_uri": "https://localhost:8080/",
     "height": 556
    },
    "id": "D2n-NQghmEro",
    "outputId": "4e9e99ab-5f44-4248-e0c1-59c8f4f821c9"
   },
   "outputs": [
    {
     "data": {
      "image/png": "[encoded data removed]",
      "text/plain": [
       "<Figure size 1500x500 with 1 Axes>"
      ]
     },
     "metadata": {},
     "output_type": "display_data"
    }
   ],
   "source": [
    "# Plotting the actual vs predicted stock prices\n",
    "plt.figure(figsize=(15, 5))\n",
    "plt.plot(inv_y_test, color='blue', label='Actual Stock Price')\n",
    "plt.plot(inv_predictions, color='red', label='Predicted Stock Price using LSTM')\n",
    "plt.title('TCS Stock Price Prediction: Actual vs Predicted')\n",
    "plt.xlabel('Time')\n",
    "plt.ylabel('Stock Price')\n",
    "plt.legend()\n",
    "#plt.grid()\n",
    "plt.show()"
   ]
  },
  {
   "cell_type": "code",
   "execution_count": null,
   "metadata": {
    "id": "QBLOyPZTmEoO"
   },
   "outputs": [],
   "source": []
  },
  {
   "cell_type": "code",
   "execution_count": null,
   "metadata": {
    "id": "VSd8NGCK8dAm"
   },
   "outputs": [],
   "source": []
  },
  {
   "cell_type": "code",
   "execution_count": null,
   "metadata": {},
   "outputs": [],
   "source": []
  }
 ],
 "metadata": {
  "colab": {
   "provenance": []
  },
  "kernelspec": {
   "display_name": "Python 3 (ipykernel)",
   "language": "python",
   "name": "python3"
  },
  "language_info": {
   "codemirror_mode": {
    "name": "ipython",
    "version": 3
   },
   "file_extension": ".py",
   "mimetype": "text/x-python",
   "name": "python",
   "nbconvert_exporter": "python",
   "pygments_lexer": "ipython3",
   "version": "3.12.4"
  }
 },
 "nbformat": 4,
 "nbformat_minor": 4
}
